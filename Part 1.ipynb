{
 "cells": [
  {
   "cell_type": "markdown",
   "id": "843cb4",
   "metadata": {
    "collapsed": false
   },
   "source": [
    "![](https://cocalc.com/blobs/FullLogo_200x160.png?uuid=e2a635d0-26b8-40d1-b1c7-d0fc4fb06bd7)\n",
    "\n",
    "## **Data Analysis with Python**\n",
    "\n"
   ]
  },
  {
   "cell_type": "markdown",
   "id": "b14ede",
   "metadata": {
    "collapsed": false
   },
   "source": [
    "## **Capstone Project \\(Part 1 \\- Data Cleaning & EDA\\)**\n",
    "\n"
   ]
  },
  {
   "cell_type": "markdown",
   "id": "930326",
   "metadata": {
    "collapsed": false
   },
   "source": [
    "### Step 1: Data Cleaning\n",
    "\n"
   ]
  },
  {
   "cell_type": "code",
   "execution_count": 44,
   "id": "fa5520",
   "metadata": {
    "collapsed": false
   },
   "outputs": [
    {
     "name": "stdout",
     "output_type": "stream",
     "text": [
      "Current Working Directory: /home/user/Capstone Project\n"
     ]
    }
   ],
   "source": [
    "current_directory = os.getcwd()\n",
    "print(\"Current Working Directory:\", current_directory)\n"
   ]
  },
  {
   "cell_type": "code",
   "execution_count": 45,
   "id": "d5cb03",
   "metadata": {
    "collapsed": false
   },
   "outputs": [
    {
     "data": {
      "text/plain": [
       "'/home/user/Capstone Project'"
      ]
     },
     "execution_count": 45,
     "metadata": {
     },
     "output_type": "execute_result"
    }
   ],
   "source": [
    "import os\n",
    "os.getcwd()"
   ]
  },
  {
   "cell_type": "code",
   "execution_count": 46,
   "id": "d3cb60",
   "metadata": {
    "collapsed": false
   },
   "outputs": [
    {
     "data": {
      "text/html": [
       "<div>\n",
       "<style scoped>\n",
       "    .dataframe tbody tr th:only-of-type {\n",
       "        vertical-align: middle;\n",
       "    }\n",
       "\n",
       "    .dataframe tbody tr th {\n",
       "        vertical-align: top;\n",
       "    }\n",
       "\n",
       "    .dataframe thead th {\n",
       "        text-align: right;\n",
       "    }\n",
       "</style>\n",
       "<table border=\"1\" class=\"dataframe\">\n",
       "  <thead>\n",
       "    <tr style=\"text-align: right;\">\n",
       "      <th></th>\n",
       "      <th>Order ID</th>\n",
       "      <th>Order Date</th>\n",
       "      <th>Ship Date</th>\n",
       "      <th>Ship Mode</th>\n",
       "      <th>Customer ID</th>\n",
       "      <th>Customer Name</th>\n",
       "      <th>Segment</th>\n",
       "      <th>Country</th>\n",
       "      <th>City</th>\n",
       "      <th>State</th>\n",
       "      <th>Postal Code</th>\n",
       "      <th>Region</th>\n",
       "      <th>Product ID</th>\n",
       "      <th>Category</th>\n",
       "      <th>Sub-Category</th>\n",
       "      <th>Product Name</th>\n",
       "      <th>Sales</th>\n",
       "      <th>Quantity</th>\n",
       "      <th>Discount</th>\n",
       "      <th>Profit</th>\n",
       "    </tr>\n",
       "  </thead>\n",
       "  <tbody>\n",
       "    <tr>\n",
       "      <th>0</th>\n",
       "      <td>CA-2014-115889</td>\n",
       "      <td>11/2/2014</td>\n",
       "      <td>11/6/2014</td>\n",
       "      <td>Standard Class</td>\n",
       "      <td>SH-20395</td>\n",
       "      <td>Shahid Hopkins</td>\n",
       "      <td>Consumer</td>\n",
       "      <td>United States</td>\n",
       "      <td>San Francisco</td>\n",
       "      <td>California</td>\n",
       "      <td>94122</td>\n",
       "      <td>WEST</td>\n",
       "      <td>TEC-PH-10001615</td>\n",
       "      <td>Technology</td>\n",
       "      <td>Phones</td>\n",
       "      <td>AT&amp;T CL82213</td>\n",
       "      <td>$46.38</td>\n",
       "      <td>2</td>\n",
       "      <td>0.2</td>\n",
       "      <td>5.2182</td>\n",
       "    </tr>\n",
       "    <tr>\n",
       "      <th>1</th>\n",
       "      <td>US-2014-102715</td>\n",
       "      <td>4/11/2014</td>\n",
       "      <td>4/13/2014</td>\n",
       "      <td>Second Class</td>\n",
       "      <td>JK-15370</td>\n",
       "      <td>Jay Kimmel</td>\n",
       "      <td>Consumer</td>\n",
       "      <td>United States</td>\n",
       "      <td>Miami</td>\n",
       "      <td>Florida</td>\n",
       "      <td>33180</td>\n",
       "      <td>South</td>\n",
       "      <td>OFF-PA-10000029</td>\n",
       "      <td>Office Supplies</td>\n",
       "      <td>Paper</td>\n",
       "      <td>Xerox 224</td>\n",
       "      <td>$10.37</td>\n",
       "      <td>2</td>\n",
       "      <td>0.2</td>\n",
       "      <td>3.6288</td>\n",
       "    </tr>\n",
       "    <tr>\n",
       "      <th>2</th>\n",
       "      <td>CA-2015-130974</td>\n",
       "      <td>11/27/2015</td>\n",
       "      <td>11/29/2015</td>\n",
       "      <td>Second Class</td>\n",
       "      <td>MA-17560</td>\n",
       "      <td>Matt Abelman</td>\n",
       "      <td>Home Office</td>\n",
       "      <td>United States</td>\n",
       "      <td>Everett</td>\n",
       "      <td>Massachusetts</td>\n",
       "      <td>2149</td>\n",
       "      <td>EAST</td>\n",
       "      <td>FUR-FU-10002506</td>\n",
       "      <td>Furniture</td>\n",
       "      <td>Furnishings</td>\n",
       "      <td>Tensor \"Hersey Kiss\" Styled Floor Lamp</td>\n",
       "      <td>$38.97</td>\n",
       "      <td>3</td>\n",
       "      <td>0.0</td>\n",
       "      <td>4.6764</td>\n",
       "    </tr>\n",
       "    <tr>\n",
       "      <th>3</th>\n",
       "      <td>CA-2014-102645</td>\n",
       "      <td>1/23/2014</td>\n",
       "      <td>1/28/2014</td>\n",
       "      <td>Standard Class</td>\n",
       "      <td>IM-15055</td>\n",
       "      <td>Ionia McGrath</td>\n",
       "      <td>Consumer</td>\n",
       "      <td>United States</td>\n",
       "      <td>Las Vegas</td>\n",
       "      <td>Nevada</td>\n",
       "      <td>89115</td>\n",
       "      <td>WEST</td>\n",
       "      <td>OFF-PA-10001804</td>\n",
       "      <td>Office Supplies</td>\n",
       "      <td>Paper</td>\n",
       "      <td>Xerox 195</td>\n",
       "      <td>$40.08</td>\n",
       "      <td>6</td>\n",
       "      <td>0.0</td>\n",
       "      <td>19.2384</td>\n",
       "    </tr>\n",
       "    <tr>\n",
       "      <th>4</th>\n",
       "      <td>CA-2016-139409</td>\n",
       "      <td>9/5/2016</td>\n",
       "      <td>9/7/2016</td>\n",
       "      <td>First Class</td>\n",
       "      <td>FW-14395</td>\n",
       "      <td>Fred Wasserman</td>\n",
       "      <td>Corporate</td>\n",
       "      <td>United States</td>\n",
       "      <td>New York City</td>\n",
       "      <td>New York</td>\n",
       "      <td>10011</td>\n",
       "      <td>EAST</td>\n",
       "      <td>TEC-PH-10003988</td>\n",
       "      <td>Technology</td>\n",
       "      <td>Phones</td>\n",
       "      <td>LF Elite 3D Dazzle Designer Hard Case Cover, L...</td>\n",
       "      <td>$43.60</td>\n",
       "      <td>4</td>\n",
       "      <td>0.0</td>\n",
       "      <td>12.208</td>\n",
       "    </tr>\n",
       "    <tr>\n",
       "      <th>...</th>\n",
       "      <td>...</td>\n",
       "      <td>...</td>\n",
       "      <td>...</td>\n",
       "      <td>...</td>\n",
       "      <td>...</td>\n",
       "      <td>...</td>\n",
       "      <td>...</td>\n",
       "      <td>...</td>\n",
       "      <td>...</td>\n",
       "      <td>...</td>\n",
       "      <td>...</td>\n",
       "      <td>...</td>\n",
       "      <td>...</td>\n",
       "      <td>...</td>\n",
       "      <td>...</td>\n",
       "      <td>...</td>\n",
       "      <td>...</td>\n",
       "      <td>...</td>\n",
       "      <td>...</td>\n",
       "      <td>...</td>\n",
       "    </tr>\n",
       "    <tr>\n",
       "      <th>9994</th>\n",
       "      <td>CA-2017-104731</td>\n",
       "      <td>7/21/2017</td>\n",
       "      <td>7/27/2017</td>\n",
       "      <td>Standard Class</td>\n",
       "      <td>AM-10705</td>\n",
       "      <td>Anne McFarland</td>\n",
       "      <td>Consumer</td>\n",
       "      <td>United States</td>\n",
       "      <td>Salem</td>\n",
       "      <td>Virginia</td>\n",
       "      <td>24153</td>\n",
       "      <td>South</td>\n",
       "      <td>OFF-AR-10003829</td>\n",
       "      <td>Office Supplies</td>\n",
       "      <td>Art</td>\n",
       "      <td>Newell 35</td>\n",
       "      <td>$19.68</td>\n",
       "      <td>6</td>\n",
       "      <td>0.0</td>\n",
       "      <td>5.7072</td>\n",
       "    </tr>\n",
       "    <tr>\n",
       "      <th>9995</th>\n",
       "      <td>CA-2014-160738</td>\n",
       "      <td>5/5/2014</td>\n",
       "      <td>5/10/2014</td>\n",
       "      <td>Standard Class</td>\n",
       "      <td>KH-16330</td>\n",
       "      <td>Katharine Harms</td>\n",
       "      <td>Corporate</td>\n",
       "      <td>United States</td>\n",
       "      <td>Freeport</td>\n",
       "      <td>Illinois</td>\n",
       "      <td>61032</td>\n",
       "      <td>Central</td>\n",
       "      <td>OFF-ST-10003442</td>\n",
       "      <td>Office Supplies</td>\n",
       "      <td>Storage</td>\n",
       "      <td>Eldon Portable Mobile Manager</td>\n",
       "      <td>$45.25</td>\n",
       "      <td>2</td>\n",
       "      <td>0.2</td>\n",
       "      <td>3.9592</td>\n",
       "    </tr>\n",
       "    <tr>\n",
       "      <th>9996</th>\n",
       "      <td>CA-2016-148516</td>\n",
       "      <td>8/7/2016</td>\n",
       "      <td>8/11/2016</td>\n",
       "      <td>Standard Class</td>\n",
       "      <td>DW-13585</td>\n",
       "      <td>Dorothy Wardle</td>\n",
       "      <td>?Corporate?</td>\n",
       "      <td>United States</td>\n",
       "      <td>Edmonds</td>\n",
       "      <td>Washington</td>\n",
       "      <td>98026</td>\n",
       "      <td>WEST</td>\n",
       "      <td>TEC-AC-10003610</td>\n",
       "      <td>Technology</td>\n",
       "      <td>Accessories</td>\n",
       "      <td>Logitech Illuminated - Keyboard</td>\n",
       "      <td>$179.97</td>\n",
       "      <td>3</td>\n",
       "      <td>0.0</td>\n",
       "      <td>86.3856</td>\n",
       "    </tr>\n",
       "    <tr>\n",
       "      <th>9997</th>\n",
       "      <td>CA-2014-163867</td>\n",
       "      <td>6/3/2014</td>\n",
       "      <td>6/6/2014</td>\n",
       "      <td>First Class</td>\n",
       "      <td>RE-19450</td>\n",
       "      <td>Richard Eichhorn</td>\n",
       "      <td>?Consumer?</td>\n",
       "      <td>United States</td>\n",
       "      <td>Decatur</td>\n",
       "      <td>Illinois</td>\n",
       "      <td>62521</td>\n",
       "      <td>Central</td>\n",
       "      <td>OFF-LA-10001771</td>\n",
       "      <td>Office Supplies</td>\n",
       "      <td>Labels</td>\n",
       "      <td>Avery 513</td>\n",
       "      <td>$15.94</td>\n",
       "      <td>4</td>\n",
       "      <td>0.2</td>\n",
       "      <td>5.1792</td>\n",
       "    </tr>\n",
       "    <tr>\n",
       "      <th>9998</th>\n",
       "      <td>CA-2014-169852</td>\n",
       "      <td>10/21/2014</td>\n",
       "      <td>10/26/2014</td>\n",
       "      <td>Standard Class</td>\n",
       "      <td>SF-20965</td>\n",
       "      <td>Sylvia Foulston</td>\n",
       "      <td>Corporate</td>\n",
       "      <td>United States</td>\n",
       "      <td>San Diego</td>\n",
       "      <td>California</td>\n",
       "      <td>92024</td>\n",
       "      <td>WEST</td>\n",
       "      <td>OFF-BI-10001460</td>\n",
       "      <td>Office Supplies</td>\n",
       "      <td>Binders</td>\n",
       "      <td>Plastic Binding Combs</td>\n",
       "      <td>$36.36</td>\n",
       "      <td>3</td>\n",
       "      <td>0.2</td>\n",
       "      <td>12.2715</td>\n",
       "    </tr>\n",
       "  </tbody>\n",
       "</table>\n",
       "<p>9999 rows × 20 columns</p>\n",
       "</div>"
      ],
      "text/plain": [
       "            Order ID  Order Date   Ship Date       Ship Mode Customer ID  \\\n",
       "0     CA-2014-115889   11/2/2014   11/6/2014  Standard Class    SH-20395   \n",
       "1     US-2014-102715   4/11/2014   4/13/2014    Second Class    JK-15370   \n",
       "2     CA-2015-130974  11/27/2015  11/29/2015    Second Class    MA-17560   \n",
       "3     CA-2014-102645   1/23/2014   1/28/2014  Standard Class    IM-15055   \n",
       "4     CA-2016-139409    9/5/2016    9/7/2016     First Class    FW-14395   \n",
       "...              ...         ...         ...             ...         ...   \n",
       "9994  CA-2017-104731   7/21/2017   7/27/2017  Standard Class    AM-10705   \n",
       "9995  CA-2014-160738    5/5/2014   5/10/2014  Standard Class    KH-16330   \n",
       "9996  CA-2016-148516    8/7/2016   8/11/2016  Standard Class    DW-13585   \n",
       "9997  CA-2014-163867    6/3/2014    6/6/2014     First Class    RE-19450   \n",
       "9998  CA-2014-169852  10/21/2014  10/26/2014  Standard Class    SF-20965   \n",
       "\n",
       "         Customer Name      Segment        Country           City  \\\n",
       "0       Shahid Hopkins     Consumer  United States  San Francisco   \n",
       "1           Jay Kimmel     Consumer  United States          Miami   \n",
       "2         Matt Abelman  Home Office  United States        Everett   \n",
       "3        Ionia McGrath     Consumer  United States      Las Vegas   \n",
       "4       Fred Wasserman    Corporate  United States  New York City   \n",
       "...                ...          ...            ...            ...   \n",
       "9994    Anne McFarland     Consumer  United States          Salem   \n",
       "9995   Katharine Harms    Corporate  United States       Freeport   \n",
       "9996    Dorothy Wardle  ?Corporate?  United States        Edmonds   \n",
       "9997  Richard Eichhorn   ?Consumer?  United States        Decatur   \n",
       "9998   Sylvia Foulston    Corporate  United States      San Diego   \n",
       "\n",
       "              State  Postal Code   Region       Product ID         Category  \\\n",
       "0        California        94122     WEST  TEC-PH-10001615       Technology   \n",
       "1           Florida        33180    South  OFF-PA-10000029  Office Supplies   \n",
       "2     Massachusetts         2149     EAST  FUR-FU-10002506        Furniture   \n",
       "3            Nevada        89115     WEST  OFF-PA-10001804  Office Supplies   \n",
       "4          New York        10011     EAST  TEC-PH-10003988       Technology   \n",
       "...             ...          ...      ...              ...              ...   \n",
       "9994       Virginia        24153    South  OFF-AR-10003829  Office Supplies   \n",
       "9995       Illinois        61032  Central  OFF-ST-10003442  Office Supplies   \n",
       "9996     Washington        98026     WEST  TEC-AC-10003610       Technology   \n",
       "9997       Illinois        62521  Central  OFF-LA-10001771  Office Supplies   \n",
       "9998     California        92024     WEST  OFF-BI-10001460  Office Supplies   \n",
       "\n",
       "     Sub-Category                                       Product Name  \\\n",
       "0          Phones                                       AT&T CL82213   \n",
       "1           Paper                                          Xerox 224   \n",
       "2     Furnishings             Tensor \"Hersey Kiss\" Styled Floor Lamp   \n",
       "3           Paper                                          Xerox 195   \n",
       "4          Phones  LF Elite 3D Dazzle Designer Hard Case Cover, L...   \n",
       "...           ...                                                ...   \n",
       "9994          Art                                          Newell 35   \n",
       "9995      Storage                      Eldon Portable Mobile Manager   \n",
       "9996  Accessories                    Logitech Illuminated - Keyboard   \n",
       "9997       Labels                                          Avery 513   \n",
       "9998      Binders                              Plastic Binding Combs   \n",
       "\n",
       "         Sales  Quantity  Discount   Profit  \n",
       "0      $46.38          2       0.2   5.2182  \n",
       "1      $10.37          2       0.2   3.6288  \n",
       "2      $38.97          3       0.0   4.6764  \n",
       "3      $40.08          6       0.0  19.2384  \n",
       "4      $43.60          4       0.0   12.208  \n",
       "...        ...       ...       ...      ...  \n",
       "9994   $19.68          6       0.0   5.7072  \n",
       "9995   $45.25          2       0.2   3.9592  \n",
       "9996  $179.97          3       0.0  86.3856  \n",
       "9997   $15.94          4       0.2   5.1792  \n",
       "9998   $36.36          3       0.2  12.2715  \n",
       "\n",
       "[9999 rows x 20 columns]"
      ]
     },
     "execution_count": 46,
     "metadata": {
     },
     "output_type": "execute_result"
    }
   ],
   "source": [
    "import pandas as pd\n",
    "Superstore = pd.read_csv(r'Superstore.csv')\n",
    "Superstore\n"
   ]
  },
  {
   "cell_type": "code",
   "execution_count": 47,
   "id": "8571db",
   "metadata": {
    "collapsed": false
   },
   "outputs": [
    {
     "data": {
      "text/html": [
       "<div>\n",
       "<style scoped>\n",
       "    .dataframe tbody tr th:only-of-type {\n",
       "        vertical-align: middle;\n",
       "    }\n",
       "\n",
       "    .dataframe tbody tr th {\n",
       "        vertical-align: top;\n",
       "    }\n",
       "\n",
       "    .dataframe thead th {\n",
       "        text-align: right;\n",
       "    }\n",
       "</style>\n",
       "<table border=\"1\" class=\"dataframe\">\n",
       "  <thead>\n",
       "    <tr style=\"text-align: right;\">\n",
       "      <th></th>\n",
       "      <th>Order ID</th>\n",
       "      <th>Order Date</th>\n",
       "      <th>Ship Date</th>\n",
       "      <th>Ship Mode</th>\n",
       "      <th>Customer ID</th>\n",
       "      <th>Customer Name</th>\n",
       "      <th>Segment</th>\n",
       "      <th>Country</th>\n",
       "      <th>City</th>\n",
       "      <th>State</th>\n",
       "      <th>Postal Code</th>\n",
       "      <th>Region</th>\n",
       "      <th>Product ID</th>\n",
       "      <th>Category</th>\n",
       "      <th>Sub-Category</th>\n",
       "      <th>Product Name</th>\n",
       "      <th>Sales</th>\n",
       "      <th>Quantity</th>\n",
       "      <th>Discount</th>\n",
       "      <th>Profit</th>\n",
       "    </tr>\n",
       "  </thead>\n",
       "  <tbody>\n",
       "    <tr>\n",
       "      <th>0</th>\n",
       "      <td>CA-2014-115889</td>\n",
       "      <td>11/2/2014</td>\n",
       "      <td>11/6/2014</td>\n",
       "      <td>Standard Class</td>\n",
       "      <td>SH-20395</td>\n",
       "      <td>Shahid Hopkins</td>\n",
       "      <td>Consumer</td>\n",
       "      <td>United States</td>\n",
       "      <td>San Francisco</td>\n",
       "      <td>California</td>\n",
       "      <td>94122</td>\n",
       "      <td>WEST</td>\n",
       "      <td>TEC-PH-10001615</td>\n",
       "      <td>Technology</td>\n",
       "      <td>Phones</td>\n",
       "      <td>AT&amp;T CL82213</td>\n",
       "      <td>$46.38</td>\n",
       "      <td>2</td>\n",
       "      <td>0.2</td>\n",
       "      <td>5.2182</td>\n",
       "    </tr>\n",
       "    <tr>\n",
       "      <th>1</th>\n",
       "      <td>US-2014-102715</td>\n",
       "      <td>4/11/2014</td>\n",
       "      <td>4/13/2014</td>\n",
       "      <td>Second Class</td>\n",
       "      <td>JK-15370</td>\n",
       "      <td>Jay Kimmel</td>\n",
       "      <td>Consumer</td>\n",
       "      <td>United States</td>\n",
       "      <td>Miami</td>\n",
       "      <td>Florida</td>\n",
       "      <td>33180</td>\n",
       "      <td>South</td>\n",
       "      <td>OFF-PA-10000029</td>\n",
       "      <td>Office Supplies</td>\n",
       "      <td>Paper</td>\n",
       "      <td>Xerox 224</td>\n",
       "      <td>$10.37</td>\n",
       "      <td>2</td>\n",
       "      <td>0.2</td>\n",
       "      <td>3.6288</td>\n",
       "    </tr>\n",
       "  </tbody>\n",
       "</table>\n",
       "</div>"
      ],
      "text/plain": [
       "         Order ID Order Date  Ship Date       Ship Mode Customer ID  \\\n",
       "0  CA-2014-115889  11/2/2014  11/6/2014  Standard Class    SH-20395   \n",
       "1  US-2014-102715  4/11/2014  4/13/2014    Second Class    JK-15370   \n",
       "\n",
       "    Customer Name   Segment        Country           City       State  \\\n",
       "0  Shahid Hopkins  Consumer  United States  San Francisco  California   \n",
       "1      Jay Kimmel  Consumer  United States          Miami     Florida   \n",
       "\n",
       "   Postal Code Region       Product ID         Category Sub-Category  \\\n",
       "0        94122   WEST  TEC-PH-10001615       Technology       Phones   \n",
       "1        33180  South  OFF-PA-10000029  Office Supplies        Paper   \n",
       "\n",
       "   Product Name    Sales  Quantity  Discount  Profit  \n",
       "0  AT&T CL82213  $46.38          2       0.2  5.2182  \n",
       "1     Xerox 224  $10.37          2       0.2  3.6288  "
      ]
     },
     "execution_count": 47,
     "metadata": {
     },
     "output_type": "execute_result"
    }
   ],
   "source": [
    "Superstore.head(2)"
   ]
  },
  {
   "cell_type": "code",
   "execution_count": 48,
   "id": "f62422",
   "metadata": {
    "collapsed": false
   },
   "outputs": [
    {
     "name": "stdout",
     "output_type": "stream",
     "text": [
      "9999\n",
      "20\n"
     ]
    }
   ],
   "source": [
    "print(Superstore.shape[0])\n",
    "print(Superstore.shape[1])\n"
   ]
  },
  {
   "cell_type": "code",
   "execution_count": 49,
   "id": "a04812",
   "metadata": {
    "collapsed": false
   },
   "outputs": [
    {
     "name": "stdout",
     "output_type": "stream",
     "text": [
      "<class 'pandas.core.frame.DataFrame'>\n",
      "RangeIndex: 9999 entries, 0 to 9998\n",
      "Data columns (total 20 columns):\n",
      " #   Column         Non-Null Count  Dtype  \n",
      "---  ------         --------------  -----  \n",
      " 0   Order ID       9999 non-null   object \n",
      " 1   Order Date     9999 non-null   object \n",
      " 2   Ship Date      9999 non-null   object \n",
      " 3   Ship Mode      9999 non-null   object \n",
      " 4   Customer ID    9996 non-null   object \n",
      " 5   Customer Name  9999 non-null   object \n",
      " 6   Segment        9999 non-null   object \n",
      " 7   Country        9999 non-null   object \n",
      " 8   City           9999 non-null   object \n",
      " 9   State          9999 non-null   object \n",
      " 10  Postal Code    9999 non-null   int64  \n",
      " 11  Region         9999 non-null   object \n",
      " 12  Product ID     9999 non-null   object \n",
      " 13  Category       9999 non-null   object \n",
      " 14  Sub-Category   9999 non-null   object \n",
      " 15  Product Name   9999 non-null   object \n",
      " 16  Sales          9993 non-null   object \n",
      " 17  Quantity       9999 non-null   int64  \n",
      " 18  Discount       9992 non-null   float64\n",
      " 19  Profit         9999 non-null   object \n",
      "dtypes: float64(1), int64(2), object(17)\n",
      "memory usage: 1.5+ MB\n"
     ]
    }
   ],
   "source": [
    "Superstore.info()"
   ]
  },
  {
   "cell_type": "code",
   "execution_count": 50,
   "id": "4ccbe2",
   "metadata": {
    "collapsed": false
   },
   "outputs": [
    {
     "data": {
      "text/html": [
       "<div>\n",
       "<style scoped>\n",
       "    .dataframe tbody tr th:only-of-type {\n",
       "        vertical-align: middle;\n",
       "    }\n",
       "\n",
       "    .dataframe tbody tr th {\n",
       "        vertical-align: top;\n",
       "    }\n",
       "\n",
       "    .dataframe thead th {\n",
       "        text-align: right;\n",
       "    }\n",
       "</style>\n",
       "<table border=\"1\" class=\"dataframe\">\n",
       "  <thead>\n",
       "    <tr style=\"text-align: right;\">\n",
       "      <th></th>\n",
       "      <th>Order ID</th>\n",
       "      <th>Order Date</th>\n",
       "      <th>Ship Date</th>\n",
       "      <th>Ship Mode</th>\n",
       "      <th>Customer ID</th>\n",
       "      <th>Customer Name</th>\n",
       "      <th>Segment</th>\n",
       "      <th>Country</th>\n",
       "      <th>City</th>\n",
       "      <th>State</th>\n",
       "      <th>Postal Code</th>\n",
       "      <th>Region</th>\n",
       "      <th>Product ID</th>\n",
       "      <th>Category</th>\n",
       "      <th>Sub-Category</th>\n",
       "      <th>Product Name</th>\n",
       "      <th>Sales</th>\n",
       "      <th>Quantity</th>\n",
       "      <th>Discount</th>\n",
       "      <th>Profit</th>\n",
       "    </tr>\n",
       "  </thead>\n",
       "  <tbody>\n",
       "    <tr>\n",
       "      <th>0</th>\n",
       "      <td>CA-2014-115889</td>\n",
       "      <td>11/2/2014</td>\n",
       "      <td>11/6/2014</td>\n",
       "      <td>Standard Class</td>\n",
       "      <td>SH-20395</td>\n",
       "      <td>Shahid Hopkins</td>\n",
       "      <td>Consumer</td>\n",
       "      <td>United States</td>\n",
       "      <td>San Francisco</td>\n",
       "      <td>California</td>\n",
       "      <td>94122</td>\n",
       "      <td>WEST</td>\n",
       "      <td>TEC-PH-10001615</td>\n",
       "      <td>Technology</td>\n",
       "      <td>Phones</td>\n",
       "      <td>AT&amp;T CL82213</td>\n",
       "      <td>46.38</td>\n",
       "      <td>2</td>\n",
       "      <td>0.2</td>\n",
       "      <td>5.2182</td>\n",
       "    </tr>\n",
       "    <tr>\n",
       "      <th>1</th>\n",
       "      <td>US-2014-102715</td>\n",
       "      <td>4/11/2014</td>\n",
       "      <td>4/13/2014</td>\n",
       "      <td>Second Class</td>\n",
       "      <td>JK-15370</td>\n",
       "      <td>Jay Kimmel</td>\n",
       "      <td>Consumer</td>\n",
       "      <td>United States</td>\n",
       "      <td>Miami</td>\n",
       "      <td>Florida</td>\n",
       "      <td>33180</td>\n",
       "      <td>South</td>\n",
       "      <td>OFF-PA-10000029</td>\n",
       "      <td>Office Supplies</td>\n",
       "      <td>Paper</td>\n",
       "      <td>Xerox 224</td>\n",
       "      <td>10.37</td>\n",
       "      <td>2</td>\n",
       "      <td>0.2</td>\n",
       "      <td>3.6288</td>\n",
       "    </tr>\n",
       "    <tr>\n",
       "      <th>2</th>\n",
       "      <td>CA-2015-130974</td>\n",
       "      <td>11/27/2015</td>\n",
       "      <td>11/29/2015</td>\n",
       "      <td>Second Class</td>\n",
       "      <td>MA-17560</td>\n",
       "      <td>Matt Abelman</td>\n",
       "      <td>Home Office</td>\n",
       "      <td>United States</td>\n",
       "      <td>Everett</td>\n",
       "      <td>Massachusetts</td>\n",
       "      <td>2149</td>\n",
       "      <td>EAST</td>\n",
       "      <td>FUR-FU-10002506</td>\n",
       "      <td>Furniture</td>\n",
       "      <td>Furnishings</td>\n",
       "      <td>Tensor \"Hersey Kiss\" Styled Floor Lamp</td>\n",
       "      <td>38.97</td>\n",
       "      <td>3</td>\n",
       "      <td>0.0</td>\n",
       "      <td>4.6764</td>\n",
       "    </tr>\n",
       "    <tr>\n",
       "      <th>3</th>\n",
       "      <td>CA-2014-102645</td>\n",
       "      <td>1/23/2014</td>\n",
       "      <td>1/28/2014</td>\n",
       "      <td>Standard Class</td>\n",
       "      <td>IM-15055</td>\n",
       "      <td>Ionia McGrath</td>\n",
       "      <td>Consumer</td>\n",
       "      <td>United States</td>\n",
       "      <td>Las Vegas</td>\n",
       "      <td>Nevada</td>\n",
       "      <td>89115</td>\n",
       "      <td>WEST</td>\n",
       "      <td>OFF-PA-10001804</td>\n",
       "      <td>Office Supplies</td>\n",
       "      <td>Paper</td>\n",
       "      <td>Xerox 195</td>\n",
       "      <td>40.08</td>\n",
       "      <td>6</td>\n",
       "      <td>0.0</td>\n",
       "      <td>19.2384</td>\n",
       "    </tr>\n",
       "    <tr>\n",
       "      <th>4</th>\n",
       "      <td>CA-2016-139409</td>\n",
       "      <td>9/5/2016</td>\n",
       "      <td>9/7/2016</td>\n",
       "      <td>First Class</td>\n",
       "      <td>FW-14395</td>\n",
       "      <td>Fred Wasserman</td>\n",
       "      <td>Corporate</td>\n",
       "      <td>United States</td>\n",
       "      <td>New York City</td>\n",
       "      <td>New York</td>\n",
       "      <td>10011</td>\n",
       "      <td>EAST</td>\n",
       "      <td>TEC-PH-10003988</td>\n",
       "      <td>Technology</td>\n",
       "      <td>Phones</td>\n",
       "      <td>LF Elite 3D Dazzle Designer Hard Case Cover, L...</td>\n",
       "      <td>43.60</td>\n",
       "      <td>4</td>\n",
       "      <td>0.0</td>\n",
       "      <td>12.208</td>\n",
       "    </tr>\n",
       "    <tr>\n",
       "      <th>...</th>\n",
       "      <td>...</td>\n",
       "      <td>...</td>\n",
       "      <td>...</td>\n",
       "      <td>...</td>\n",
       "      <td>...</td>\n",
       "      <td>...</td>\n",
       "      <td>...</td>\n",
       "      <td>...</td>\n",
       "      <td>...</td>\n",
       "      <td>...</td>\n",
       "      <td>...</td>\n",
       "      <td>...</td>\n",
       "      <td>...</td>\n",
       "      <td>...</td>\n",
       "      <td>...</td>\n",
       "      <td>...</td>\n",
       "      <td>...</td>\n",
       "      <td>...</td>\n",
       "      <td>...</td>\n",
       "      <td>...</td>\n",
       "    </tr>\n",
       "    <tr>\n",
       "      <th>9994</th>\n",
       "      <td>CA-2017-104731</td>\n",
       "      <td>7/21/2017</td>\n",
       "      <td>7/27/2017</td>\n",
       "      <td>Standard Class</td>\n",
       "      <td>AM-10705</td>\n",
       "      <td>Anne McFarland</td>\n",
       "      <td>Consumer</td>\n",
       "      <td>United States</td>\n",
       "      <td>Salem</td>\n",
       "      <td>Virginia</td>\n",
       "      <td>24153</td>\n",
       "      <td>South</td>\n",
       "      <td>OFF-AR-10003829</td>\n",
       "      <td>Office Supplies</td>\n",
       "      <td>Art</td>\n",
       "      <td>Newell 35</td>\n",
       "      <td>19.68</td>\n",
       "      <td>6</td>\n",
       "      <td>0.0</td>\n",
       "      <td>5.7072</td>\n",
       "    </tr>\n",
       "    <tr>\n",
       "      <th>9995</th>\n",
       "      <td>CA-2014-160738</td>\n",
       "      <td>5/5/2014</td>\n",
       "      <td>5/10/2014</td>\n",
       "      <td>Standard Class</td>\n",
       "      <td>KH-16330</td>\n",
       "      <td>Katharine Harms</td>\n",
       "      <td>Corporate</td>\n",
       "      <td>United States</td>\n",
       "      <td>Freeport</td>\n",
       "      <td>Illinois</td>\n",
       "      <td>61032</td>\n",
       "      <td>Central</td>\n",
       "      <td>OFF-ST-10003442</td>\n",
       "      <td>Office Supplies</td>\n",
       "      <td>Storage</td>\n",
       "      <td>Eldon Portable Mobile Manager</td>\n",
       "      <td>45.25</td>\n",
       "      <td>2</td>\n",
       "      <td>0.2</td>\n",
       "      <td>3.9592</td>\n",
       "    </tr>\n",
       "    <tr>\n",
       "      <th>9996</th>\n",
       "      <td>CA-2016-148516</td>\n",
       "      <td>8/7/2016</td>\n",
       "      <td>8/11/2016</td>\n",
       "      <td>Standard Class</td>\n",
       "      <td>DW-13585</td>\n",
       "      <td>Dorothy Wardle</td>\n",
       "      <td>Corporate</td>\n",
       "      <td>United States</td>\n",
       "      <td>Edmonds</td>\n",
       "      <td>Washington</td>\n",
       "      <td>98026</td>\n",
       "      <td>WEST</td>\n",
       "      <td>TEC-AC-10003610</td>\n",
       "      <td>Technology</td>\n",
       "      <td>Accessories</td>\n",
       "      <td>Logitech Illuminated - Keyboard</td>\n",
       "      <td>179.97</td>\n",
       "      <td>3</td>\n",
       "      <td>0.0</td>\n",
       "      <td>86.3856</td>\n",
       "    </tr>\n",
       "    <tr>\n",
       "      <th>9997</th>\n",
       "      <td>CA-2014-163867</td>\n",
       "      <td>6/3/2014</td>\n",
       "      <td>6/6/2014</td>\n",
       "      <td>First Class</td>\n",
       "      <td>RE-19450</td>\n",
       "      <td>Richard Eichhorn</td>\n",
       "      <td>Consumer</td>\n",
       "      <td>United States</td>\n",
       "      <td>Decatur</td>\n",
       "      <td>Illinois</td>\n",
       "      <td>62521</td>\n",
       "      <td>Central</td>\n",
       "      <td>OFF-LA-10001771</td>\n",
       "      <td>Office Supplies</td>\n",
       "      <td>Labels</td>\n",
       "      <td>Avery 513</td>\n",
       "      <td>15.94</td>\n",
       "      <td>4</td>\n",
       "      <td>0.2</td>\n",
       "      <td>5.1792</td>\n",
       "    </tr>\n",
       "    <tr>\n",
       "      <th>9998</th>\n",
       "      <td>CA-2014-169852</td>\n",
       "      <td>10/21/2014</td>\n",
       "      <td>10/26/2014</td>\n",
       "      <td>Standard Class</td>\n",
       "      <td>SF-20965</td>\n",
       "      <td>Sylvia Foulston</td>\n",
       "      <td>Corporate</td>\n",
       "      <td>United States</td>\n",
       "      <td>San Diego</td>\n",
       "      <td>California</td>\n",
       "      <td>92024</td>\n",
       "      <td>WEST</td>\n",
       "      <td>OFF-BI-10001460</td>\n",
       "      <td>Office Supplies</td>\n",
       "      <td>Binders</td>\n",
       "      <td>Plastic Binding Combs</td>\n",
       "      <td>36.36</td>\n",
       "      <td>3</td>\n",
       "      <td>0.2</td>\n",
       "      <td>12.2715</td>\n",
       "    </tr>\n",
       "  </tbody>\n",
       "</table>\n",
       "<p>9999 rows × 20 columns</p>\n",
       "</div>"
      ],
      "text/plain": [
       "            Order ID  Order Date   Ship Date       Ship Mode Customer ID  \\\n",
       "0     CA-2014-115889   11/2/2014   11/6/2014  Standard Class    SH-20395   \n",
       "1     US-2014-102715   4/11/2014   4/13/2014    Second Class    JK-15370   \n",
       "2     CA-2015-130974  11/27/2015  11/29/2015    Second Class    MA-17560   \n",
       "3     CA-2014-102645   1/23/2014   1/28/2014  Standard Class    IM-15055   \n",
       "4     CA-2016-139409    9/5/2016    9/7/2016     First Class    FW-14395   \n",
       "...              ...         ...         ...             ...         ...   \n",
       "9994  CA-2017-104731   7/21/2017   7/27/2017  Standard Class    AM-10705   \n",
       "9995  CA-2014-160738    5/5/2014   5/10/2014  Standard Class    KH-16330   \n",
       "9996  CA-2016-148516    8/7/2016   8/11/2016  Standard Class    DW-13585   \n",
       "9997  CA-2014-163867    6/3/2014    6/6/2014     First Class    RE-19450   \n",
       "9998  CA-2014-169852  10/21/2014  10/26/2014  Standard Class    SF-20965   \n",
       "\n",
       "         Customer Name      Segment        Country           City  \\\n",
       "0       Shahid Hopkins     Consumer  United States  San Francisco   \n",
       "1           Jay Kimmel     Consumer  United States          Miami   \n",
       "2         Matt Abelman  Home Office  United States        Everett   \n",
       "3        Ionia McGrath     Consumer  United States      Las Vegas   \n",
       "4       Fred Wasserman    Corporate  United States  New York City   \n",
       "...                ...          ...            ...            ...   \n",
       "9994    Anne McFarland     Consumer  United States          Salem   \n",
       "9995   Katharine Harms    Corporate  United States       Freeport   \n",
       "9996    Dorothy Wardle    Corporate  United States        Edmonds   \n",
       "9997  Richard Eichhorn     Consumer  United States        Decatur   \n",
       "9998   Sylvia Foulston    Corporate  United States      San Diego   \n",
       "\n",
       "              State  Postal Code   Region       Product ID         Category  \\\n",
       "0        California        94122     WEST  TEC-PH-10001615       Technology   \n",
       "1           Florida        33180    South  OFF-PA-10000029  Office Supplies   \n",
       "2     Massachusetts         2149     EAST  FUR-FU-10002506        Furniture   \n",
       "3            Nevada        89115     WEST  OFF-PA-10001804  Office Supplies   \n",
       "4          New York        10011     EAST  TEC-PH-10003988       Technology   \n",
       "...             ...          ...      ...              ...              ...   \n",
       "9994       Virginia        24153    South  OFF-AR-10003829  Office Supplies   \n",
       "9995       Illinois        61032  Central  OFF-ST-10003442  Office Supplies   \n",
       "9996     Washington        98026     WEST  TEC-AC-10003610       Technology   \n",
       "9997       Illinois        62521  Central  OFF-LA-10001771  Office Supplies   \n",
       "9998     California        92024     WEST  OFF-BI-10001460  Office Supplies   \n",
       "\n",
       "     Sub-Category                                       Product Name    Sales  \\\n",
       "0          Phones                                       AT&T CL82213   46.38    \n",
       "1           Paper                                          Xerox 224   10.37    \n",
       "2     Furnishings             Tensor \"Hersey Kiss\" Styled Floor Lamp   38.97    \n",
       "3           Paper                                          Xerox 195   40.08    \n",
       "4          Phones  LF Elite 3D Dazzle Designer Hard Case Cover, L...   43.60    \n",
       "...           ...                                                ...      ...   \n",
       "9994          Art                                          Newell 35   19.68    \n",
       "9995      Storage                      Eldon Portable Mobile Manager   45.25    \n",
       "9996  Accessories                    Logitech Illuminated - Keyboard  179.97    \n",
       "9997       Labels                                          Avery 513   15.94    \n",
       "9998      Binders                              Plastic Binding Combs   36.36    \n",
       "\n",
       "      Quantity  Discount   Profit  \n",
       "0            2       0.2   5.2182  \n",
       "1            2       0.2   3.6288  \n",
       "2            3       0.0   4.6764  \n",
       "3            6       0.0  19.2384  \n",
       "4            4       0.0   12.208  \n",
       "...        ...       ...      ...  \n",
       "9994         6       0.0   5.7072  \n",
       "9995         2       0.2   3.9592  \n",
       "9996         3       0.0  86.3856  \n",
       "9997         4       0.2   5.1792  \n",
       "9998         3       0.2  12.2715  \n",
       "\n",
       "[9999 rows x 20 columns]"
      ]
     },
     "execution_count": 50,
     "metadata": {
     },
     "output_type": "execute_result"
    }
   ],
   "source": [
    "Superstore['Sales'] = Superstore['Sales'].str.replace('$','')\n",
    "Superstore['Sales'] = Superstore['Sales'].str.replace(',', '')\n",
    "Superstore['Segment'] = Superstore['Segment'].str.replace('?','')\n",
    "Superstore['Profit'] = Superstore['Profit'].str.replace('$','')\n",
    "Superstore['Profit'] = Superstore['Profit'].str.replace(r'[()]', '')\n",
    "Superstore['Profit'] = Superstore['Profit'].str.replace(',', '')\n",
    "\n",
    "\n",
    "Superstore"
   ]
  },
  {
   "cell_type": "code",
   "execution_count": 51,
   "id": "47580f",
   "metadata": {
    "collapsed": false
   },
   "outputs": [
   ],
   "source": [
    "Superstore['Profit'] = Superstore['Profit'].replace('[\\(\\)]', '', regex=True).astype(float)\n",
    "Superstore['Sales'] = Superstore['Sales'].astype(float)\n"
   ]
  },
  {
   "cell_type": "code",
   "execution_count": 52,
   "id": "2c394e",
   "metadata": {
    "collapsed": false
   },
   "outputs": [
    {
     "name": "stdout",
     "output_type": "stream",
     "text": [
      "<class 'pandas.core.frame.DataFrame'>\n",
      "RangeIndex: 9999 entries, 0 to 9998\n",
      "Data columns (total 20 columns):\n",
      " #   Column         Non-Null Count  Dtype  \n",
      "---  ------         --------------  -----  \n",
      " 0   Order ID       9999 non-null   object \n",
      " 1   Order Date     9999 non-null   object \n",
      " 2   Ship Date      9999 non-null   object \n",
      " 3   Ship Mode      9999 non-null   object \n",
      " 4   Customer ID    9996 non-null   object \n",
      " 5   Customer Name  9999 non-null   object \n",
      " 6   Segment        9999 non-null   object \n",
      " 7   Country        9999 non-null   object \n",
      " 8   City           9999 non-null   object \n",
      " 9   State          9999 non-null   object \n",
      " 10  Postal Code    9999 non-null   int64  \n",
      " 11  Region         9999 non-null   object \n",
      " 12  Product ID     9999 non-null   object \n",
      " 13  Category       9999 non-null   object \n",
      " 14  Sub-Category   9999 non-null   object \n",
      " 15  Product Name   9999 non-null   object \n",
      " 16  Sales          9993 non-null   float64\n",
      " 17  Quantity       9999 non-null   int64  \n",
      " 18  Discount       9992 non-null   float64\n",
      " 19  Profit         9999 non-null   float64\n",
      "dtypes: float64(3), int64(2), object(15)\n",
      "memory usage: 1.5+ MB\n"
     ]
    }
   ],
   "source": [
    "Superstore.info()\n"
   ]
  },
  {
   "cell_type": "code",
   "execution_count": 53,
   "id": "544cc4",
   "metadata": {
    "collapsed": false
   },
   "outputs": [
   ],
   "source": [
    "other_column = ['Segment', 'Region', 'Category', 'Sub-Category', 'Ship Mode']\n",
    "for col in other_column:\n",
    "    Superstore[col] = Superstore[col].apply(lambda x : x.strip('?#/').title())"
   ]
  },
  {
   "cell_type": "code",
   "execution_count": 54,
   "id": "596e30",
   "metadata": {
    "collapsed": false
   },
   "outputs": [
    {
     "name": "stdout",
     "output_type": "stream",
     "text": [
      "===== 3 Unique Values in: Segment ======\n",
      "['Consumer' 'Home Office' 'Corporate']\n",
      "\n",
      "===== 4 Unique Values in: Region ======\n",
      "['West' 'South' 'East' 'Central']\n",
      "\n",
      "===== 3 Unique Values in: Category ======\n",
      "['Technology' 'Office Supplies' 'Furniture']\n",
      "\n",
      "===== 17 Unique Values in: Sub-Category ======\n",
      "['Phones' 'Paper' 'Furnishings' 'Accessories' 'Art' 'Binders' 'Fasteners'\n",
      " 'Storage' 'Envelopes' 'Tables' 'Labels' 'Chairs' 'Appliances' 'Bookcases'\n",
      " 'Supplies' 'Machines' 'Copiers']\n",
      "\n",
      "===== 4 Unique Values in: Ship Mode ======\n",
      "['Standard Class' 'Second Class' 'First Class' 'Same Day']\n",
      "\n"
     ]
    }
   ],
   "source": [
    "for col in other_column:\n",
    "    num_unique_vals = Superstore[col].nunique()\n",
    "    print(f'===== {num_unique_vals} Unique Values in: {col} ======')\n",
    "    print(Superstore[col].unique())\n",
    "    print('')"
   ]
  },
  {
   "cell_type": "code",
   "execution_count": 55,
   "id": "bd402a",
   "metadata": {
    "collapsed": false
   },
   "outputs": [
    {
     "data": {
      "text/html": [
       "<div>\n",
       "<style scoped>\n",
       "    .dataframe tbody tr th:only-of-type {\n",
       "        vertical-align: middle;\n",
       "    }\n",
       "\n",
       "    .dataframe tbody tr th {\n",
       "        vertical-align: top;\n",
       "    }\n",
       "\n",
       "    .dataframe thead th {\n",
       "        text-align: right;\n",
       "    }\n",
       "</style>\n",
       "<table border=\"1\" class=\"dataframe\">\n",
       "  <thead>\n",
       "    <tr style=\"text-align: right;\">\n",
       "      <th></th>\n",
       "      <th>Order ID</th>\n",
       "      <th>Order Date</th>\n",
       "      <th>Ship Date</th>\n",
       "      <th>Ship Mode</th>\n",
       "      <th>Customer ID</th>\n",
       "      <th>Customer Name</th>\n",
       "      <th>Segment</th>\n",
       "      <th>Country</th>\n",
       "      <th>City</th>\n",
       "      <th>State</th>\n",
       "      <th>Postal Code</th>\n",
       "      <th>Region</th>\n",
       "      <th>Product ID</th>\n",
       "      <th>Category</th>\n",
       "      <th>Sub-Category</th>\n",
       "      <th>Product Name</th>\n",
       "      <th>Sales</th>\n",
       "      <th>Quantity</th>\n",
       "      <th>Discount</th>\n",
       "      <th>Profit</th>\n",
       "    </tr>\n",
       "  </thead>\n",
       "  <tbody>\n",
       "    <tr>\n",
       "      <th>0</th>\n",
       "      <td>CA-2014-115889</td>\n",
       "      <td>11/2/2014</td>\n",
       "      <td>11/6/2014</td>\n",
       "      <td>Standard Class</td>\n",
       "      <td>SH-20395</td>\n",
       "      <td>Shahid Hopkins</td>\n",
       "      <td>Consumer</td>\n",
       "      <td>United States</td>\n",
       "      <td>San Francisco</td>\n",
       "      <td>California</td>\n",
       "      <td>94122</td>\n",
       "      <td>West</td>\n",
       "      <td>TEC-PH-10001615</td>\n",
       "      <td>Technology</td>\n",
       "      <td>Phones</td>\n",
       "      <td>AT&amp;T CL82213</td>\n",
       "      <td>46.38</td>\n",
       "      <td>2</td>\n",
       "      <td>0.2</td>\n",
       "      <td>5.2182</td>\n",
       "    </tr>\n",
       "    <tr>\n",
       "      <th>1</th>\n",
       "      <td>US-2014-102715</td>\n",
       "      <td>4/11/2014</td>\n",
       "      <td>4/13/2014</td>\n",
       "      <td>Second Class</td>\n",
       "      <td>JK-15370</td>\n",
       "      <td>Jay Kimmel</td>\n",
       "      <td>Consumer</td>\n",
       "      <td>United States</td>\n",
       "      <td>Miami</td>\n",
       "      <td>Florida</td>\n",
       "      <td>33180</td>\n",
       "      <td>South</td>\n",
       "      <td>OFF-PA-10000029</td>\n",
       "      <td>Office Supplies</td>\n",
       "      <td>Paper</td>\n",
       "      <td>Xerox 224</td>\n",
       "      <td>10.37</td>\n",
       "      <td>2</td>\n",
       "      <td>0.2</td>\n",
       "      <td>3.6288</td>\n",
       "    </tr>\n",
       "    <tr>\n",
       "      <th>2</th>\n",
       "      <td>CA-2015-130974</td>\n",
       "      <td>11/27/2015</td>\n",
       "      <td>11/29/2015</td>\n",
       "      <td>Second Class</td>\n",
       "      <td>MA-17560</td>\n",
       "      <td>Matt Abelman</td>\n",
       "      <td>Home Office</td>\n",
       "      <td>United States</td>\n",
       "      <td>Everett</td>\n",
       "      <td>Massachusetts</td>\n",
       "      <td>2149</td>\n",
       "      <td>East</td>\n",
       "      <td>FUR-FU-10002506</td>\n",
       "      <td>Furniture</td>\n",
       "      <td>Furnishings</td>\n",
       "      <td>Tensor \"Hersey Kiss\" Styled Floor Lamp</td>\n",
       "      <td>38.97</td>\n",
       "      <td>3</td>\n",
       "      <td>0.0</td>\n",
       "      <td>4.6764</td>\n",
       "    </tr>\n",
       "    <tr>\n",
       "      <th>3</th>\n",
       "      <td>CA-2014-102645</td>\n",
       "      <td>1/23/2014</td>\n",
       "      <td>1/28/2014</td>\n",
       "      <td>Standard Class</td>\n",
       "      <td>IM-15055</td>\n",
       "      <td>Ionia McGrath</td>\n",
       "      <td>Consumer</td>\n",
       "      <td>United States</td>\n",
       "      <td>Las Vegas</td>\n",
       "      <td>Nevada</td>\n",
       "      <td>89115</td>\n",
       "      <td>West</td>\n",
       "      <td>OFF-PA-10001804</td>\n",
       "      <td>Office Supplies</td>\n",
       "      <td>Paper</td>\n",
       "      <td>Xerox 195</td>\n",
       "      <td>40.08</td>\n",
       "      <td>6</td>\n",
       "      <td>0.0</td>\n",
       "      <td>19.2384</td>\n",
       "    </tr>\n",
       "    <tr>\n",
       "      <th>4</th>\n",
       "      <td>CA-2016-139409</td>\n",
       "      <td>9/5/2016</td>\n",
       "      <td>9/7/2016</td>\n",
       "      <td>First Class</td>\n",
       "      <td>FW-14395</td>\n",
       "      <td>Fred Wasserman</td>\n",
       "      <td>Corporate</td>\n",
       "      <td>United States</td>\n",
       "      <td>New York City</td>\n",
       "      <td>New York</td>\n",
       "      <td>10011</td>\n",
       "      <td>East</td>\n",
       "      <td>TEC-PH-10003988</td>\n",
       "      <td>Technology</td>\n",
       "      <td>Phones</td>\n",
       "      <td>LF Elite 3D Dazzle Designer Hard Case Cover, L...</td>\n",
       "      <td>43.60</td>\n",
       "      <td>4</td>\n",
       "      <td>0.0</td>\n",
       "      <td>12.2080</td>\n",
       "    </tr>\n",
       "    <tr>\n",
       "      <th>...</th>\n",
       "      <td>...</td>\n",
       "      <td>...</td>\n",
       "      <td>...</td>\n",
       "      <td>...</td>\n",
       "      <td>...</td>\n",
       "      <td>...</td>\n",
       "      <td>...</td>\n",
       "      <td>...</td>\n",
       "      <td>...</td>\n",
       "      <td>...</td>\n",
       "      <td>...</td>\n",
       "      <td>...</td>\n",
       "      <td>...</td>\n",
       "      <td>...</td>\n",
       "      <td>...</td>\n",
       "      <td>...</td>\n",
       "      <td>...</td>\n",
       "      <td>...</td>\n",
       "      <td>...</td>\n",
       "      <td>...</td>\n",
       "    </tr>\n",
       "    <tr>\n",
       "      <th>9994</th>\n",
       "      <td>CA-2017-104731</td>\n",
       "      <td>7/21/2017</td>\n",
       "      <td>7/27/2017</td>\n",
       "      <td>Standard Class</td>\n",
       "      <td>AM-10705</td>\n",
       "      <td>Anne McFarland</td>\n",
       "      <td>Consumer</td>\n",
       "      <td>United States</td>\n",
       "      <td>Salem</td>\n",
       "      <td>Virginia</td>\n",
       "      <td>24153</td>\n",
       "      <td>South</td>\n",
       "      <td>OFF-AR-10003829</td>\n",
       "      <td>Office Supplies</td>\n",
       "      <td>Art</td>\n",
       "      <td>Newell 35</td>\n",
       "      <td>19.68</td>\n",
       "      <td>6</td>\n",
       "      <td>0.0</td>\n",
       "      <td>5.7072</td>\n",
       "    </tr>\n",
       "    <tr>\n",
       "      <th>9995</th>\n",
       "      <td>CA-2014-160738</td>\n",
       "      <td>5/5/2014</td>\n",
       "      <td>5/10/2014</td>\n",
       "      <td>Standard Class</td>\n",
       "      <td>KH-16330</td>\n",
       "      <td>Katharine Harms</td>\n",
       "      <td>Corporate</td>\n",
       "      <td>United States</td>\n",
       "      <td>Freeport</td>\n",
       "      <td>Illinois</td>\n",
       "      <td>61032</td>\n",
       "      <td>Central</td>\n",
       "      <td>OFF-ST-10003442</td>\n",
       "      <td>Office Supplies</td>\n",
       "      <td>Storage</td>\n",
       "      <td>Eldon Portable Mobile Manager</td>\n",
       "      <td>45.25</td>\n",
       "      <td>2</td>\n",
       "      <td>0.2</td>\n",
       "      <td>3.9592</td>\n",
       "    </tr>\n",
       "    <tr>\n",
       "      <th>9996</th>\n",
       "      <td>CA-2016-148516</td>\n",
       "      <td>8/7/2016</td>\n",
       "      <td>8/11/2016</td>\n",
       "      <td>Standard Class</td>\n",
       "      <td>DW-13585</td>\n",
       "      <td>Dorothy Wardle</td>\n",
       "      <td>Corporate</td>\n",
       "      <td>United States</td>\n",
       "      <td>Edmonds</td>\n",
       "      <td>Washington</td>\n",
       "      <td>98026</td>\n",
       "      <td>West</td>\n",
       "      <td>TEC-AC-10003610</td>\n",
       "      <td>Technology</td>\n",
       "      <td>Accessories</td>\n",
       "      <td>Logitech Illuminated - Keyboard</td>\n",
       "      <td>179.97</td>\n",
       "      <td>3</td>\n",
       "      <td>0.0</td>\n",
       "      <td>86.3856</td>\n",
       "    </tr>\n",
       "    <tr>\n",
       "      <th>9997</th>\n",
       "      <td>CA-2014-163867</td>\n",
       "      <td>6/3/2014</td>\n",
       "      <td>6/6/2014</td>\n",
       "      <td>First Class</td>\n",
       "      <td>RE-19450</td>\n",
       "      <td>Richard Eichhorn</td>\n",
       "      <td>Consumer</td>\n",
       "      <td>United States</td>\n",
       "      <td>Decatur</td>\n",
       "      <td>Illinois</td>\n",
       "      <td>62521</td>\n",
       "      <td>Central</td>\n",
       "      <td>OFF-LA-10001771</td>\n",
       "      <td>Office Supplies</td>\n",
       "      <td>Labels</td>\n",
       "      <td>Avery 513</td>\n",
       "      <td>15.94</td>\n",
       "      <td>4</td>\n",
       "      <td>0.2</td>\n",
       "      <td>5.1792</td>\n",
       "    </tr>\n",
       "    <tr>\n",
       "      <th>9998</th>\n",
       "      <td>CA-2014-169852</td>\n",
       "      <td>10/21/2014</td>\n",
       "      <td>10/26/2014</td>\n",
       "      <td>Standard Class</td>\n",
       "      <td>SF-20965</td>\n",
       "      <td>Sylvia Foulston</td>\n",
       "      <td>Corporate</td>\n",
       "      <td>United States</td>\n",
       "      <td>San Diego</td>\n",
       "      <td>California</td>\n",
       "      <td>92024</td>\n",
       "      <td>West</td>\n",
       "      <td>OFF-BI-10001460</td>\n",
       "      <td>Office Supplies</td>\n",
       "      <td>Binders</td>\n",
       "      <td>Plastic Binding Combs</td>\n",
       "      <td>36.36</td>\n",
       "      <td>3</td>\n",
       "      <td>0.2</td>\n",
       "      <td>12.2715</td>\n",
       "    </tr>\n",
       "  </tbody>\n",
       "</table>\n",
       "<p>9983 rows × 20 columns</p>\n",
       "</div>"
      ],
      "text/plain": [
       "            Order ID  Order Date   Ship Date       Ship Mode Customer ID  \\\n",
       "0     CA-2014-115889   11/2/2014   11/6/2014  Standard Class    SH-20395   \n",
       "1     US-2014-102715   4/11/2014   4/13/2014    Second Class    JK-15370   \n",
       "2     CA-2015-130974  11/27/2015  11/29/2015    Second Class    MA-17560   \n",
       "3     CA-2014-102645   1/23/2014   1/28/2014  Standard Class    IM-15055   \n",
       "4     CA-2016-139409    9/5/2016    9/7/2016     First Class    FW-14395   \n",
       "...              ...         ...         ...             ...         ...   \n",
       "9994  CA-2017-104731   7/21/2017   7/27/2017  Standard Class    AM-10705   \n",
       "9995  CA-2014-160738    5/5/2014   5/10/2014  Standard Class    KH-16330   \n",
       "9996  CA-2016-148516    8/7/2016   8/11/2016  Standard Class    DW-13585   \n",
       "9997  CA-2014-163867    6/3/2014    6/6/2014     First Class    RE-19450   \n",
       "9998  CA-2014-169852  10/21/2014  10/26/2014  Standard Class    SF-20965   \n",
       "\n",
       "         Customer Name      Segment        Country           City  \\\n",
       "0       Shahid Hopkins     Consumer  United States  San Francisco   \n",
       "1           Jay Kimmel     Consumer  United States          Miami   \n",
       "2         Matt Abelman  Home Office  United States        Everett   \n",
       "3        Ionia McGrath     Consumer  United States      Las Vegas   \n",
       "4       Fred Wasserman    Corporate  United States  New York City   \n",
       "...                ...          ...            ...            ...   \n",
       "9994    Anne McFarland     Consumer  United States          Salem   \n",
       "9995   Katharine Harms    Corporate  United States       Freeport   \n",
       "9996    Dorothy Wardle    Corporate  United States        Edmonds   \n",
       "9997  Richard Eichhorn     Consumer  United States        Decatur   \n",
       "9998   Sylvia Foulston    Corporate  United States      San Diego   \n",
       "\n",
       "              State  Postal Code   Region       Product ID         Category  \\\n",
       "0        California        94122     West  TEC-PH-10001615       Technology   \n",
       "1           Florida        33180    South  OFF-PA-10000029  Office Supplies   \n",
       "2     Massachusetts         2149     East  FUR-FU-10002506        Furniture   \n",
       "3            Nevada        89115     West  OFF-PA-10001804  Office Supplies   \n",
       "4          New York        10011     East  TEC-PH-10003988       Technology   \n",
       "...             ...          ...      ...              ...              ...   \n",
       "9994       Virginia        24153    South  OFF-AR-10003829  Office Supplies   \n",
       "9995       Illinois        61032  Central  OFF-ST-10003442  Office Supplies   \n",
       "9996     Washington        98026     West  TEC-AC-10003610       Technology   \n",
       "9997       Illinois        62521  Central  OFF-LA-10001771  Office Supplies   \n",
       "9998     California        92024     West  OFF-BI-10001460  Office Supplies   \n",
       "\n",
       "     Sub-Category                                       Product Name   Sales  \\\n",
       "0          Phones                                       AT&T CL82213   46.38   \n",
       "1           Paper                                          Xerox 224   10.37   \n",
       "2     Furnishings             Tensor \"Hersey Kiss\" Styled Floor Lamp   38.97   \n",
       "3           Paper                                          Xerox 195   40.08   \n",
       "4          Phones  LF Elite 3D Dazzle Designer Hard Case Cover, L...   43.60   \n",
       "...           ...                                                ...     ...   \n",
       "9994          Art                                          Newell 35   19.68   \n",
       "9995      Storage                      Eldon Portable Mobile Manager   45.25   \n",
       "9996  Accessories                    Logitech Illuminated - Keyboard  179.97   \n",
       "9997       Labels                                          Avery 513   15.94   \n",
       "9998      Binders                              Plastic Binding Combs   36.36   \n",
       "\n",
       "      Quantity  Discount   Profit  \n",
       "0            2       0.2   5.2182  \n",
       "1            2       0.2   3.6288  \n",
       "2            3       0.0   4.6764  \n",
       "3            6       0.0  19.2384  \n",
       "4            4       0.0  12.2080  \n",
       "...        ...       ...      ...  \n",
       "9994         6       0.0   5.7072  \n",
       "9995         2       0.2   3.9592  \n",
       "9996         3       0.0  86.3856  \n",
       "9997         4       0.2   5.1792  \n",
       "9998         3       0.2  12.2715  \n",
       "\n",
       "[9983 rows x 20 columns]"
      ]
     },
     "execution_count": 55,
     "metadata": {
     },
     "output_type": "execute_result"
    }
   ],
   "source": [
    "Superstore.dropna()"
   ]
  },
  {
   "cell_type": "code",
   "execution_count": 56,
   "id": "ddaa43",
   "metadata": {
    "collapsed": false
   },
   "outputs": [
   ],
   "source": [
    "Superstore['Customer ID']= Superstore['Customer ID'].fillna('Unknown')"
   ]
  },
  {
   "cell_type": "code",
   "execution_count": 57,
   "id": "9cc4d1",
   "metadata": {
    "collapsed": false
   },
   "outputs": [
   ],
   "source": [
    "#missing = Superstore[Superstore['Sales'].isnull()]\n",
    "#missing\n",
    "Superstore['Sales'] = Superstore['Sales'].fillna(0)\n",
    "Superstore['Discount'] = Superstore['Discount'].fillna(0)"
   ]
  },
  {
   "cell_type": "code",
   "execution_count": 58,
   "id": "3c800c",
   "metadata": {
    "collapsed": false
   },
   "outputs": [
    {
     "data": {
      "text/plain": [
       "Order ID         False\n",
       "Order Date       False\n",
       "Ship Date        False\n",
       "Ship Mode        False\n",
       "Customer ID      False\n",
       "Customer Name    False\n",
       "Segment          False\n",
       "Country          False\n",
       "City             False\n",
       "State            False\n",
       "Postal Code      False\n",
       "Region           False\n",
       "Product ID       False\n",
       "Category         False\n",
       "Sub-Category     False\n",
       "Product Name     False\n",
       "Sales            False\n",
       "Quantity         False\n",
       "Discount         False\n",
       "Profit           False\n",
       "dtype: bool"
      ]
     },
     "execution_count": 58,
     "metadata": {
     },
     "output_type": "execute_result"
    }
   ],
   "source": [
    "pd.isnull(Superstore).any()"
   ]
  },
  {
   "cell_type": "code",
   "execution_count": 59,
   "id": "c12b10",
   "metadata": {
    "collapsed": false
   },
   "outputs": [
   ],
   "source": [
    "#Superstore[Superstore.duplicated()]\n",
    "Superstore = Superstore.drop_duplicates()"
   ]
  },
  {
   "cell_type": "code",
   "execution_count": 60,
   "id": "5f38f8",
   "metadata": {
    "collapsed": false
   },
   "outputs": [
    {
     "data": {
      "text/plain": [
       "Order ID          object\n",
       "Order Date        object\n",
       "Ship Date         object\n",
       "Ship Mode         object\n",
       "Customer ID       object\n",
       "Customer Name     object\n",
       "Segment           object\n",
       "Country           object\n",
       "City              object\n",
       "State             object\n",
       "Postal Code        int64\n",
       "Region            object\n",
       "Product ID        object\n",
       "Category          object\n",
       "Sub-Category      object\n",
       "Product Name      object\n",
       "Sales            float64\n",
       "Quantity           int64\n",
       "Discount         float64\n",
       "Profit           float64\n",
       "dtype: object"
      ]
     },
     "execution_count": 60,
     "metadata": {
     },
     "output_type": "execute_result"
    }
   ],
   "source": [
    "Superstore.dtypes"
   ]
  },
  {
   "cell_type": "code",
   "execution_count": 61,
   "id": "6c4b67",
   "metadata": {
    "collapsed": false
   },
   "outputs": [
    {
     "name": "stderr",
     "output_type": "stream",
     "text": [
      "/tmp/ipykernel_227/679261350.py:1: SettingWithCopyWarning: \n",
      "A value is trying to be set on a copy of a slice from a DataFrame.\n",
      "Try using .loc[row_indexer,col_indexer] = value instead\n",
      "\n",
      "See the caveats in the documentation: https://pandas.pydata.org/pandas-docs/stable/user_guide/indexing.html#returning-a-view-versus-a-copy\n",
      "  Superstore['Order Date'] = pd.to_datetime(Superstore['Order Date'])\n"
     ]
    }
   ],
   "source": [
    "Superstore['Order Date'] = pd.to_datetime(Superstore['Order Date'])"
   ]
  },
  {
   "cell_type": "code",
   "execution_count": 62,
   "id": "961966",
   "metadata": {
    "collapsed": false
   },
   "outputs": [
    {
     "name": "stderr",
     "output_type": "stream",
     "text": [
      "/tmp/ipykernel_227/861307886.py:1: SettingWithCopyWarning: \n",
      "A value is trying to be set on a copy of a slice from a DataFrame.\n",
      "Try using .loc[row_indexer,col_indexer] = value instead\n",
      "\n",
      "See the caveats in the documentation: https://pandas.pydata.org/pandas-docs/stable/user_guide/indexing.html#returning-a-view-versus-a-copy\n",
      "  Superstore['Ship Date'] = pd.to_datetime(Superstore['Ship Date'])\n"
     ]
    }
   ],
   "source": [
    "Superstore['Ship Date'] = pd.to_datetime(Superstore['Ship Date'])"
   ]
  },
  {
   "cell_type": "code",
   "execution_count": 63,
   "id": "101404",
   "metadata": {
    "collapsed": false
   },
   "outputs": [
    {
     "data": {
      "text/plain": [
       "Order ID                 object\n",
       "Order Date       datetime64[ns]\n",
       "Ship Date        datetime64[ns]\n",
       "Ship Mode                object\n",
       "Customer ID              object\n",
       "Customer Name            object\n",
       "Segment                  object\n",
       "Country                  object\n",
       "City                     object\n",
       "State                    object\n",
       "Postal Code               int64\n",
       "Region                   object\n",
       "Product ID               object\n",
       "Category                 object\n",
       "Sub-Category             object\n",
       "Product Name             object\n",
       "Sales                   float64\n",
       "Quantity                  int64\n",
       "Discount                float64\n",
       "Profit                  float64\n",
       "dtype: object"
      ]
     },
     "execution_count": 63,
     "metadata": {
     },
     "output_type": "execute_result"
    }
   ],
   "source": [
    "Superstore.dtypes"
   ]
  },
  {
   "cell_type": "code",
   "execution_count": 64,
   "id": "02fe30",
   "metadata": {
    "collapsed": false
   },
   "outputs": [
    {
     "name": "stdout",
     "output_type": "stream",
     "text": [
      "<class 'pandas.core.frame.DataFrame'>\n",
      "Index: 9993 entries, 0 to 9998\n",
      "Data columns (total 20 columns):\n",
      " #   Column         Non-Null Count  Dtype         \n",
      "---  ------         --------------  -----         \n",
      " 0   Order ID       9993 non-null   object        \n",
      " 1   Order Date     9993 non-null   datetime64[ns]\n",
      " 2   Ship Date      9993 non-null   datetime64[ns]\n",
      " 3   Ship Mode      9993 non-null   object        \n",
      " 4   Customer ID    9993 non-null   object        \n",
      " 5   Customer Name  9993 non-null   object        \n",
      " 6   Segment        9993 non-null   object        \n",
      " 7   Country        9993 non-null   object        \n",
      " 8   City           9993 non-null   object        \n",
      " 9   State          9993 non-null   object        \n",
      " 10  Postal Code    9993 non-null   int64         \n",
      " 11  Region         9993 non-null   object        \n",
      " 12  Product ID     9993 non-null   object        \n",
      " 13  Category       9993 non-null   object        \n",
      " 14  Sub-Category   9993 non-null   object        \n",
      " 15  Product Name   9993 non-null   object        \n",
      " 16  Sales          9993 non-null   float64       \n",
      " 17  Quantity       9993 non-null   int64         \n",
      " 18  Discount       9993 non-null   float64       \n",
      " 19  Profit         9993 non-null   float64       \n",
      "dtypes: datetime64[ns](2), float64(3), int64(2), object(13)\n",
      "memory usage: 1.6+ MB\n"
     ]
    }
   ],
   "source": [
    "Superstore.info()"
   ]
  },
  {
   "cell_type": "markdown",
   "id": "396923",
   "metadata": {
    "collapsed": false
   },
   "source": [
    "### Step 2: Exploratory Data Analysis \\(EDA\\)\n",
    "\n"
   ]
  },
  {
   "cell_type": "code",
   "execution_count": 65,
   "id": "bdf7ce",
   "metadata": {
    "collapsed": false,
    "scrolled": true
   },
   "outputs": [
    {
     "data": {
      "text/plain": [
       "794"
      ]
     },
     "execution_count": 65,
     "metadata": {
     },
     "output_type": "execute_result"
    }
   ],
   "source": [
    "# How many customers are in the dataset?\n",
    "\n",
    "Superstore['Customer ID'].nunique()\n"
   ]
  },
  {
   "cell_type": "code",
   "execution_count": 66,
   "id": "eda524",
   "metadata": {
    "collapsed": false
   },
   "outputs": [
    {
     "data": {
      "text/plain": [
       "array(['Consumer', 'Home Office', 'Corporate'], dtype=object)"
      ]
     },
     "execution_count": 66,
     "metadata": {
     },
     "output_type": "execute_result"
    }
   ],
   "source": [
    "# How many unique Customer Segments presents are in the Superstore dataset\n",
    "\n",
    "Superstore ['Segment'].unique()"
   ]
  },
  {
   "cell_type": "code",
   "execution_count": 67,
   "id": "1fc6e9",
   "metadata": {
    "collapsed": false
   },
   "outputs": [
    {
     "data": {
      "text/plain": [
       "array(['West', 'South', 'East', 'Central'], dtype=object)"
      ]
     },
     "execution_count": 67,
     "metadata": {
     },
     "output_type": "execute_result"
    }
   ],
   "source": [
    "# How many unique Geographical Regions?\n",
    "\n",
    "Superstore['Region'].unique()"
   ]
  },
  {
   "cell_type": "code",
   "execution_count": 68,
   "id": "eacd99",
   "metadata": {
    "collapsed": false
   },
   "outputs": [
    {
     "data": {
      "text/plain": [
       "array(['Technology', 'Office Supplies', 'Furniture'], dtype=object)"
      ]
     },
     "execution_count": 68,
     "metadata": {
     },
     "output_type": "execute_result"
    }
   ],
   "source": [
    "# How many unique Product Categories are in the dataset?\n",
    "\n",
    "Superstore['Category'].unique()"
   ]
  },
  {
   "cell_type": "code",
   "execution_count": 69,
   "id": "0dcff3",
   "metadata": {
    "collapsed": false
   },
   "outputs": [
    {
     "data": {
      "text/plain": [
       "array(['United States'], dtype=object)"
      ]
     },
     "execution_count": 69,
     "metadata": {
     },
     "output_type": "execute_result"
    }
   ],
   "source": [
    "# Across how many countries has the data been collected?\n",
    "\n",
    "Superstore['Country'].unique()"
   ]
  },
  {
   "cell_type": "code",
   "execution_count": 70,
   "id": "d47def",
   "metadata": {
    "collapsed": false
   },
   "outputs": [
    {
     "name": "stdout",
     "output_type": "stream",
     "text": [
      "2014-01-03 00:00:00\n",
      "2017-12-30 00:00:00\n"
     ]
    }
   ],
   "source": [
    "# What is the date range (min and max) of Transaction Orders in the dataset?\n",
    "\n",
    "print(Superstore['Order Date'].min())\n",
    "print(Superstore['Order Date'].max())"
   ]
  },
  {
   "cell_type": "code",
   "execution_count": 71,
   "id": "03a678",
   "metadata": {
    "collapsed": false
   },
   "outputs": [
    {
     "data": {
      "text/plain": [
       "Category\n",
       "Office Supplies    6026\n",
       "Furniture          2120\n",
       "Technology         1847\n",
       "Name: count, dtype: int64"
      ]
     },
     "execution_count": 71,
     "metadata": {
     },
     "output_type": "execute_result"
    }
   ],
   "source": [
    "# How many transations were performed in each Product Category?\n",
    "\n",
    "Superstore['Category'].value_counts()"
   ]
  },
  {
   "cell_type": "code",
   "execution_count": 72,
   "id": "305925",
   "metadata": {
    "collapsed": false
   },
   "outputs": [
    {
     "data": {
      "text/plain": [
       "Category\n",
       "Furniture          741000.89\n",
       "Office Supplies    718970.77\n",
       "Technology         835969.58\n",
       "Name: Sales, dtype: float64"
      ]
     },
     "execution_count": 72,
     "metadata": {
     },
     "output_type": "execute_result"
    }
   ],
   "source": [
    "# What is the total sales for each product category?\n",
    "\n",
    "total_sales_per_category = Superstore.groupby('Category')['Sales'].sum()\n",
    "total_sales_per_category\n"
   ]
  },
  {
   "cell_type": "code",
   "execution_count": 73,
   "id": "192fb6",
   "metadata": {
    "collapsed": false
   },
   "outputs": [
    {
     "data": {
      "text/plain": [
       "Category\n",
       "Furniture          349.528722\n",
       "Office Supplies    119.311445\n",
       "Technology         452.609410\n",
       "Name: Sales, dtype: float64"
      ]
     },
     "execution_count": 73,
     "metadata": {
     },
     "output_type": "execute_result"
    }
   ],
   "source": [
    "# What is the average sales for each product category?\n",
    "\n",
    "Average_sales_per_category = Superstore.groupby('Category')['Sales'].mean()\n",
    "Average_sales_per_category"
   ]
  },
  {
   "cell_type": "code",
   "execution_count": 74,
   "id": "6be9bf",
   "metadata": {
    "collapsed": false
   },
   "outputs": [
    {
     "data": {
      "text/plain": [
       "Category\n",
       "Furniture          368.29\n",
       "Office Supplies    946.80\n",
       "Technology         244.40\n",
       "Name: Discount, dtype: float64"
      ]
     },
     "execution_count": 74,
     "metadata": {
     },
     "output_type": "execute_result"
    }
   ],
   "source": [
    "# What is the total discount in each Product Category\n",
    "\n",
    "total_discount_per_category = Superstore.groupby('Category')['Discount'].sum()\n",
    "total_discount_per_category\n"
   ]
  },
  {
   "cell_type": "code",
   "execution_count": 75,
   "id": "639879",
   "metadata": {
    "collapsed": false
   },
   "outputs": [
    {
     "data": {
      "text/plain": [
       "Category         Sub-Category\n",
       "Furniture        Bookcases        48.14\n",
       "                 Chairs          104.40\n",
       "                 Furnishings     132.40\n",
       "                 Tables           83.35\n",
       "Office Supplies  Appliances       77.60\n",
       "                 Art              59.60\n",
       "                 Binders         566.20\n",
       "                 Envelopes        20.40\n",
       "                 Fasteners        17.80\n",
       "                 Labels           25.00\n",
       "                 Paper           102.60\n",
       "                 Storage          63.00\n",
       "                 Supplies         14.60\n",
       "Technology       Accessories      60.80\n",
       "                 Copiers          11.00\n",
       "                 Machines         35.20\n",
       "                 Phones          137.40\n",
       "Name: Discount, dtype: float64"
      ]
     },
     "execution_count": 75,
     "metadata": {
     },
     "output_type": "execute_result"
    }
   ],
   "source": [
    "# What is the total discount by Product Category and Sub-Category?\n",
    "total_discount_by_category_subcategory = Superstore.groupby(['Category', 'Sub-Category'])['Discount'].sum()\n",
    "total_discount_by_category_subcategory\n"
   ]
  },
  {
   "cell_type": "code",
   "execution_count": 76,
   "id": "de0541",
   "metadata": {
    "collapsed": false
   },
   "outputs": [
    {
     "data": {
      "text/plain": [
       "Region\n",
       "Central    1175\n",
       "East       1401\n",
       "South       822\n",
       "West       1611\n",
       "Name: Order ID, dtype: int64"
      ]
     },
     "execution_count": 76,
     "metadata": {
     },
     "output_type": "execute_result"
    }
   ],
   "source": [
    "# How many transactions were performed from each region?\n",
    "\n",
    "number_transaction = Superstore.groupby(['Region'])['Order ID'].nunique()\n",
    "number_transaction"
   ]
  },
  {
   "cell_type": "code",
   "execution_count": 77,
   "id": "ee58f7",
   "metadata": {
    "collapsed": false
   },
   "outputs": [
    {
     "data": {
      "text/html": [
       "<div>\n",
       "<style scoped>\n",
       "    .dataframe tbody tr th:only-of-type {\n",
       "        vertical-align: middle;\n",
       "    }\n",
       "\n",
       "    .dataframe tbody tr th {\n",
       "        vertical-align: top;\n",
       "    }\n",
       "\n",
       "    .dataframe thead th {\n",
       "        text-align: right;\n",
       "    }\n",
       "</style>\n",
       "<table border=\"1\" class=\"dataframe\">\n",
       "  <thead>\n",
       "    <tr style=\"text-align: right;\">\n",
       "      <th></th>\n",
       "      <th>Order ID</th>\n",
       "      <th>Order Date</th>\n",
       "      <th>Ship Date</th>\n",
       "      <th>Ship Mode</th>\n",
       "      <th>Customer ID</th>\n",
       "      <th>Customer Name</th>\n",
       "      <th>Segment</th>\n",
       "      <th>Country</th>\n",
       "      <th>City</th>\n",
       "      <th>State</th>\n",
       "      <th>Postal Code</th>\n",
       "      <th>Region</th>\n",
       "      <th>Product ID</th>\n",
       "      <th>Category</th>\n",
       "      <th>Sub-Category</th>\n",
       "      <th>Product Name</th>\n",
       "      <th>Sales</th>\n",
       "      <th>Quantity</th>\n",
       "      <th>Discount</th>\n",
       "      <th>Profit</th>\n",
       "    </tr>\n",
       "  </thead>\n",
       "  <tbody>\n",
       "    <tr>\n",
       "      <th>0</th>\n",
       "      <td>CA-2014-115889</td>\n",
       "      <td>2014-11-02</td>\n",
       "      <td>2014-11-06</td>\n",
       "      <td>Standard Class</td>\n",
       "      <td>SH-20395</td>\n",
       "      <td>Shahid Hopkins</td>\n",
       "      <td>Consumer</td>\n",
       "      <td>United States</td>\n",
       "      <td>San Francisco</td>\n",
       "      <td>California</td>\n",
       "      <td>94122</td>\n",
       "      <td>West</td>\n",
       "      <td>TEC-PH-10001615</td>\n",
       "      <td>Technology</td>\n",
       "      <td>Phones</td>\n",
       "      <td>AT&amp;T CL82213</td>\n",
       "      <td>46.38</td>\n",
       "      <td>2</td>\n",
       "      <td>0.2</td>\n",
       "      <td>5.2182</td>\n",
       "    </tr>\n",
       "    <tr>\n",
       "      <th>1</th>\n",
       "      <td>US-2014-102715</td>\n",
       "      <td>2014-04-11</td>\n",
       "      <td>2014-04-13</td>\n",
       "      <td>Second Class</td>\n",
       "      <td>JK-15370</td>\n",
       "      <td>Jay Kimmel</td>\n",
       "      <td>Consumer</td>\n",
       "      <td>United States</td>\n",
       "      <td>Miami</td>\n",
       "      <td>Florida</td>\n",
       "      <td>33180</td>\n",
       "      <td>South</td>\n",
       "      <td>OFF-PA-10000029</td>\n",
       "      <td>Office Supplies</td>\n",
       "      <td>Paper</td>\n",
       "      <td>Xerox 224</td>\n",
       "      <td>10.37</td>\n",
       "      <td>2</td>\n",
       "      <td>0.2</td>\n",
       "      <td>3.6288</td>\n",
       "    </tr>\n",
       "    <tr>\n",
       "      <th>2</th>\n",
       "      <td>CA-2015-130974</td>\n",
       "      <td>2015-11-27</td>\n",
       "      <td>2015-11-29</td>\n",
       "      <td>Second Class</td>\n",
       "      <td>MA-17560</td>\n",
       "      <td>Matt Abelman</td>\n",
       "      <td>Home Office</td>\n",
       "      <td>United States</td>\n",
       "      <td>Everett</td>\n",
       "      <td>Massachusetts</td>\n",
       "      <td>2149</td>\n",
       "      <td>East</td>\n",
       "      <td>FUR-FU-10002506</td>\n",
       "      <td>Furniture</td>\n",
       "      <td>Furnishings</td>\n",
       "      <td>Tensor \"Hersey Kiss\" Styled Floor Lamp</td>\n",
       "      <td>38.97</td>\n",
       "      <td>3</td>\n",
       "      <td>0.0</td>\n",
       "      <td>4.6764</td>\n",
       "    </tr>\n",
       "    <tr>\n",
       "      <th>3</th>\n",
       "      <td>CA-2014-102645</td>\n",
       "      <td>2014-01-23</td>\n",
       "      <td>2014-01-28</td>\n",
       "      <td>Standard Class</td>\n",
       "      <td>IM-15055</td>\n",
       "      <td>Ionia McGrath</td>\n",
       "      <td>Consumer</td>\n",
       "      <td>United States</td>\n",
       "      <td>Las Vegas</td>\n",
       "      <td>Nevada</td>\n",
       "      <td>89115</td>\n",
       "      <td>West</td>\n",
       "      <td>OFF-PA-10001804</td>\n",
       "      <td>Office Supplies</td>\n",
       "      <td>Paper</td>\n",
       "      <td>Xerox 195</td>\n",
       "      <td>40.08</td>\n",
       "      <td>6</td>\n",
       "      <td>0.0</td>\n",
       "      <td>19.2384</td>\n",
       "    </tr>\n",
       "    <tr>\n",
       "      <th>4</th>\n",
       "      <td>CA-2016-139409</td>\n",
       "      <td>2016-09-05</td>\n",
       "      <td>2016-09-07</td>\n",
       "      <td>First Class</td>\n",
       "      <td>FW-14395</td>\n",
       "      <td>Fred Wasserman</td>\n",
       "      <td>Corporate</td>\n",
       "      <td>United States</td>\n",
       "      <td>New York City</td>\n",
       "      <td>New York</td>\n",
       "      <td>10011</td>\n",
       "      <td>East</td>\n",
       "      <td>TEC-PH-10003988</td>\n",
       "      <td>Technology</td>\n",
       "      <td>Phones</td>\n",
       "      <td>LF Elite 3D Dazzle Designer Hard Case Cover, L...</td>\n",
       "      <td>43.60</td>\n",
       "      <td>4</td>\n",
       "      <td>0.0</td>\n",
       "      <td>12.2080</td>\n",
       "    </tr>\n",
       "  </tbody>\n",
       "</table>\n",
       "</div>"
      ],
      "text/plain": [
       "         Order ID Order Date  Ship Date       Ship Mode Customer ID  \\\n",
       "0  CA-2014-115889 2014-11-02 2014-11-06  Standard Class    SH-20395   \n",
       "1  US-2014-102715 2014-04-11 2014-04-13    Second Class    JK-15370   \n",
       "2  CA-2015-130974 2015-11-27 2015-11-29    Second Class    MA-17560   \n",
       "3  CA-2014-102645 2014-01-23 2014-01-28  Standard Class    IM-15055   \n",
       "4  CA-2016-139409 2016-09-05 2016-09-07     First Class    FW-14395   \n",
       "\n",
       "    Customer Name      Segment        Country           City          State  \\\n",
       "0  Shahid Hopkins     Consumer  United States  San Francisco     California   \n",
       "1      Jay Kimmel     Consumer  United States          Miami        Florida   \n",
       "2    Matt Abelman  Home Office  United States        Everett  Massachusetts   \n",
       "3   Ionia McGrath     Consumer  United States      Las Vegas         Nevada   \n",
       "4  Fred Wasserman    Corporate  United States  New York City       New York   \n",
       "\n",
       "   Postal Code Region       Product ID         Category Sub-Category  \\\n",
       "0        94122   West  TEC-PH-10001615       Technology       Phones   \n",
       "1        33180  South  OFF-PA-10000029  Office Supplies        Paper   \n",
       "2         2149   East  FUR-FU-10002506        Furniture  Furnishings   \n",
       "3        89115   West  OFF-PA-10001804  Office Supplies        Paper   \n",
       "4        10011   East  TEC-PH-10003988       Technology       Phones   \n",
       "\n",
       "                                        Product Name  Sales  Quantity  \\\n",
       "0                                       AT&T CL82213  46.38         2   \n",
       "1                                          Xerox 224  10.37         2   \n",
       "2             Tensor \"Hersey Kiss\" Styled Floor Lamp  38.97         3   \n",
       "3                                          Xerox 195  40.08         6   \n",
       "4  LF Elite 3D Dazzle Designer Hard Case Cover, L...  43.60         4   \n",
       "\n",
       "   Discount   Profit  \n",
       "0       0.2   5.2182  \n",
       "1       0.2   3.6288  \n",
       "2       0.0   4.6764  \n",
       "3       0.0  19.2384  \n",
       "4       0.0  12.2080  "
      ]
     },
     "execution_count": 77,
     "metadata": {
     },
     "output_type": "execute_result"
    }
   ],
   "source": [
    "Superstore.head()"
   ]
  },
  {
   "cell_type": "code",
   "execution_count": 78,
   "id": "9f97a9",
   "metadata": {
    "collapsed": false
   },
   "outputs": [
    {
     "name": "stdout",
     "output_type": "stream",
     "text": [
      "<class 'pandas.core.frame.DataFrame'>\n",
      "Index: 9993 entries, 0 to 9998\n",
      "Data columns (total 20 columns):\n",
      " #   Column         Non-Null Count  Dtype         \n",
      "---  ------         --------------  -----         \n",
      " 0   Order ID       9993 non-null   object        \n",
      " 1   Order Date     9993 non-null   datetime64[ns]\n",
      " 2   Ship Date      9993 non-null   datetime64[ns]\n",
      " 3   Ship Mode      9993 non-null   object        \n",
      " 4   Customer ID    9993 non-null   object        \n",
      " 5   Customer Name  9993 non-null   object        \n",
      " 6   Segment        9993 non-null   object        \n",
      " 7   Country        9993 non-null   object        \n",
      " 8   City           9993 non-null   object        \n",
      " 9   State          9993 non-null   object        \n",
      " 10  Postal Code    9993 non-null   int64         \n",
      " 11  Region         9993 non-null   object        \n",
      " 12  Product ID     9993 non-null   object        \n",
      " 13  Category       9993 non-null   object        \n",
      " 14  Sub-Category   9993 non-null   object        \n",
      " 15  Product Name   9993 non-null   object        \n",
      " 16  Sales          9993 non-null   float64       \n",
      " 17  Quantity       9993 non-null   int64         \n",
      " 18  Discount       9993 non-null   float64       \n",
      " 19  Profit         9993 non-null   float64       \n",
      "dtypes: datetime64[ns](2), float64(3), int64(2), object(13)\n",
      "memory usage: 1.6+ MB\n"
     ]
    }
   ],
   "source": [
    "Superstore.info()"
   ]
  },
  {
   "cell_type": "code",
   "execution_count": 79,
   "id": "b42cb0",
   "metadata": {
    "collapsed": false
   },
   "outputs": [
    {
     "name": "stderr",
     "output_type": "stream",
     "text": [
      "/tmp/ipykernel_227/2722963394.py:3: SettingWithCopyWarning: \n",
      "A value is trying to be set on a copy of a slice from a DataFrame.\n",
      "Try using .loc[row_indexer,col_indexer] = value instead\n",
      "\n",
      "See the caveats in the documentation: https://pandas.pydata.org/pandas-docs/stable/user_guide/indexing.html#returning-a-view-versus-a-copy\n",
      "  Superstore['Shipdate'] = (Superstore['Ship Date'] - Superstore['Order Date']).dt.days\n"
     ]
    },
    {
     "data": {
      "text/plain": [
       "3.9574765422239966"
      ]
     },
     "execution_count": 79,
     "metadata": {
     },
     "output_type": "execute_result"
    }
   ],
   "source": [
    "# How many days does it typically take to ship out products counting from the Order Date?\n",
    "\n",
    "Superstore['Shipdate'] = (Superstore['Ship Date'] - Superstore['Order Date']).dt.days\n",
    "Superstore.groupby(['Order ID'])['Shipdate'].mean().mean()"
   ]
  },
  {
   "cell_type": "code",
   "execution_count": 80,
   "id": "ef9d44",
   "metadata": {
    "collapsed": false
   },
   "outputs": [
    {
     "name": "stderr",
     "output_type": "stream",
     "text": [
      "/tmp/ipykernel_227/587145021.py:4: SettingWithCopyWarning: \n",
      "A value is trying to be set on a copy of a slice from a DataFrame.\n",
      "Try using .loc[row_indexer,col_indexer] = value instead\n",
      "\n",
      "See the caveats in the documentation: https://pandas.pydata.org/pandas-docs/stable/user_guide/indexing.html#returning-a-view-versus-a-copy\n",
      "  Superstore['Shipping Duration'] = (Superstore['Ship Date'] - Superstore['Order Date']).dt.days\n"
     ]
    },
    {
     "data": {
      "text/html": [
       "<div>\n",
       "<style scoped>\n",
       "    .dataframe tbody tr th:only-of-type {\n",
       "        vertical-align: middle;\n",
       "    }\n",
       "\n",
       "    .dataframe tbody tr th {\n",
       "        vertical-align: top;\n",
       "    }\n",
       "\n",
       "    .dataframe thead th {\n",
       "        text-align: right;\n",
       "    }\n",
       "</style>\n",
       "<table border=\"1\" class=\"dataframe\">\n",
       "  <thead>\n",
       "    <tr style=\"text-align: right;\">\n",
       "      <th></th>\n",
       "      <th>Category</th>\n",
       "      <th>Sub-Category</th>\n",
       "      <th>Shipping Duration</th>\n",
       "    </tr>\n",
       "  </thead>\n",
       "  <tbody>\n",
       "    <tr>\n",
       "      <th>0</th>\n",
       "      <td>Furniture</td>\n",
       "      <td>Bookcases</td>\n",
       "      <td>3.811404</td>\n",
       "    </tr>\n",
       "    <tr>\n",
       "      <th>1</th>\n",
       "      <td>Furniture</td>\n",
       "      <td>Chairs</td>\n",
       "      <td>3.899351</td>\n",
       "    </tr>\n",
       "    <tr>\n",
       "      <th>2</th>\n",
       "      <td>Furniture</td>\n",
       "      <td>Furnishings</td>\n",
       "      <td>3.961338</td>\n",
       "    </tr>\n",
       "    <tr>\n",
       "      <th>3</th>\n",
       "      <td>Furniture</td>\n",
       "      <td>Tables</td>\n",
       "      <td>3.893417</td>\n",
       "    </tr>\n",
       "    <tr>\n",
       "      <th>4</th>\n",
       "      <td>Office Supplies</td>\n",
       "      <td>Appliances</td>\n",
       "      <td>3.989270</td>\n",
       "    </tr>\n",
       "    <tr>\n",
       "      <th>5</th>\n",
       "      <td>Office Supplies</td>\n",
       "      <td>Art</td>\n",
       "      <td>4.054020</td>\n",
       "    </tr>\n",
       "    <tr>\n",
       "      <th>6</th>\n",
       "      <td>Office Supplies</td>\n",
       "      <td>Binders</td>\n",
       "      <td>4.022324</td>\n",
       "    </tr>\n",
       "    <tr>\n",
       "      <th>7</th>\n",
       "      <td>Office Supplies</td>\n",
       "      <td>Envelopes</td>\n",
       "      <td>4.015748</td>\n",
       "    </tr>\n",
       "    <tr>\n",
       "      <th>8</th>\n",
       "      <td>Office Supplies</td>\n",
       "      <td>Fasteners</td>\n",
       "      <td>3.976959</td>\n",
       "    </tr>\n",
       "    <tr>\n",
       "      <th>9</th>\n",
       "      <td>Office Supplies</td>\n",
       "      <td>Labels</td>\n",
       "      <td>4.002747</td>\n",
       "    </tr>\n",
       "    <tr>\n",
       "      <th>10</th>\n",
       "      <td>Office Supplies</td>\n",
       "      <td>Paper</td>\n",
       "      <td>3.887591</td>\n",
       "    </tr>\n",
       "    <tr>\n",
       "      <th>11</th>\n",
       "      <td>Office Supplies</td>\n",
       "      <td>Storage</td>\n",
       "      <td>3.975177</td>\n",
       "    </tr>\n",
       "    <tr>\n",
       "      <th>12</th>\n",
       "      <td>Office Supplies</td>\n",
       "      <td>Supplies</td>\n",
       "      <td>4.015789</td>\n",
       "    </tr>\n",
       "    <tr>\n",
       "      <th>13</th>\n",
       "      <td>Technology</td>\n",
       "      <td>Accessories</td>\n",
       "      <td>3.886452</td>\n",
       "    </tr>\n",
       "    <tr>\n",
       "      <th>14</th>\n",
       "      <td>Technology</td>\n",
       "      <td>Copiers</td>\n",
       "      <td>3.617647</td>\n",
       "    </tr>\n",
       "    <tr>\n",
       "      <th>15</th>\n",
       "      <td>Technology</td>\n",
       "      <td>Machines</td>\n",
       "      <td>3.747826</td>\n",
       "    </tr>\n",
       "    <tr>\n",
       "      <th>16</th>\n",
       "      <td>Technology</td>\n",
       "      <td>Phones</td>\n",
       "      <td>4.001125</td>\n",
       "    </tr>\n",
       "  </tbody>\n",
       "</table>\n",
       "</div>"
      ],
      "text/plain": [
       "           Category Sub-Category  Shipping Duration\n",
       "0         Furniture    Bookcases           3.811404\n",
       "1         Furniture       Chairs           3.899351\n",
       "2         Furniture  Furnishings           3.961338\n",
       "3         Furniture       Tables           3.893417\n",
       "4   Office Supplies   Appliances           3.989270\n",
       "5   Office Supplies          Art           4.054020\n",
       "6   Office Supplies      Binders           4.022324\n",
       "7   Office Supplies    Envelopes           4.015748\n",
       "8   Office Supplies    Fasteners           3.976959\n",
       "9   Office Supplies       Labels           4.002747\n",
       "10  Office Supplies        Paper           3.887591\n",
       "11  Office Supplies      Storage           3.975177\n",
       "12  Office Supplies     Supplies           4.015789\n",
       "13       Technology  Accessories           3.886452\n",
       "14       Technology      Copiers           3.617647\n",
       "15       Technology     Machines           3.747826\n",
       "16       Technology       Phones           4.001125"
      ]
     },
     "execution_count": 80,
     "metadata": {
     },
     "output_type": "execute_result"
    }
   ],
   "source": [
    "# What is the average number of days between Order Date and Ship Date by Product Category & sub-category?\n",
    "\n",
    "\n",
    "Superstore['Shipping Duration'] = (Superstore['Ship Date'] - Superstore['Order Date']).dt.days\n",
    "avg_shipping_duration = Superstore.groupby(['Category', 'Sub-Category'])['Shipping Duration'].mean().reset_index()\n",
    "avg_shipping_duration\n"
   ]
  },
  {
   "cell_type": "code",
   "execution_count": 81,
   "id": "398682",
   "metadata": {
    "collapsed": false
   },
   "outputs": [
    {
     "name": "stdout",
     "output_type": "stream",
     "text": [
      "           Category Sub-Category  Shipping Duration\n",
      "0         Furniture    Bookcases                  7\n",
      "1         Furniture       Chairs                  7\n",
      "2         Furniture  Furnishings                  7\n",
      "3         Furniture       Tables                  7\n",
      "4   Office Supplies   Appliances                  7\n",
      "5   Office Supplies          Art                  7\n",
      "6   Office Supplies      Binders                  7\n",
      "7   Office Supplies    Envelopes                  7\n",
      "8   Office Supplies    Fasteners                  7\n",
      "9   Office Supplies       Labels                  7\n",
      "10  Office Supplies        Paper                  7\n",
      "11  Office Supplies      Storage                  7\n",
      "12  Office Supplies     Supplies                  7\n",
      "13       Technology  Accessories                  7\n",
      "14       Technology      Copiers                  7\n",
      "15       Technology     Machines                  7\n",
      "16       Technology       Phones                  7\n"
     ]
    }
   ],
   "source": [
    "# What is the maximum number of days between Order Date and Ship Date by Product Category & sub-category?\n",
    "\n",
    "max_shipping_duration = Superstore.groupby(['Category', 'Sub-Category'])['Shipping Duration'].max().reset_index()\n",
    "\n",
    "print(max_shipping_duration)\n"
   ]
  },
  {
   "cell_type": "code",
   "execution_count": 82,
   "id": "22d5e9",
   "metadata": {
    "collapsed": false
   },
   "outputs": [
   ],
   "source": [
    "Superstore.to_csv('clean_superstore.csv')"
   ]
  },
  {
   "cell_type": "code",
   "execution_count": 83,
   "id": "0ada2a",
   "metadata": {
    "collapsed": false
   },
   "outputs": [
    {
     "data": {
      "text/plain": [
       "Ship Mode\n",
       "First Class        787\n",
       "Same Day           264\n",
       "Second Class       964\n",
       "Standard Class    2994\n",
       "Name: Order ID, dtype: int64"
      ]
     },
     "execution_count": 83,
     "metadata": {
     },
     "output_type": "execute_result"
    }
   ],
   "source": [
    "# What is the most frequently used Ship Mode?\n",
    "\n",
    "Superstore.groupby(['Ship Mode'])['Order ID'].nunique()"
   ]
  },
  {
   "cell_type": "code",
   "execution_count": 84,
   "id": "3426d9",
   "metadata": {
    "collapsed": false
   },
   "outputs": [
    {
     "data": {
      "text/plain": [
       "Ship Mode       Category       \n",
       "First Class     Furniture           274\n",
       "                Office Supplies     588\n",
       "                Technology          250\n",
       "Same Day        Furniture            96\n",
       "                Office Supplies     196\n",
       "                Technology           79\n",
       "Second Class    Furniture           354\n",
       "                Office Supplies     710\n",
       "                Technology          310\n",
       "Standard Class  Furniture          1040\n",
       "                Office Supplies    2248\n",
       "                Technology          905\n",
       "Name: Order ID, dtype: int64"
      ]
     },
     "execution_count": 84,
     "metadata": {
     },
     "output_type": "execute_result"
    }
   ],
   "source": [
    "# What is the toal number of transactions by Ship Mode and Product Category??\n",
    "\n",
    "Superstore.groupby(['Ship Mode', 'Category'])['Order ID'].nunique()"
   ]
  },
  {
   "cell_type": "code",
   "execution_count": 0,
   "id": "daef26",
   "metadata": {
    "collapsed": false
   },
   "outputs": [
   ],
   "source": [
   ]
  }
 ],
 "metadata": {
  "kernelspec": {
   "argv": [
    "/usr/bin/python3",
    "-m",
    "ipykernel",
    "--HistoryManager.enabled=False",
    "--matplotlib=inline",
    "-c",
    "%config InlineBackend.figure_formats = set(['retina'])\nimport matplotlib; matplotlib.rcParams['figure.figsize'] = (12, 7)",
    "-f",
    "{connection_file}"
   ],
   "display_name": "Python 3 (system-wide)",
   "env": {
   },
   "language": "python",
   "metadata": {
    "cocalc": {
     "description": "Python 3 programming language",
     "priority": 100,
     "url": "https://www.python.org/"
    }
   },
   "name": "python3",
   "resource_dir": "/ext/jupyter/kernels/python3"
  },
  "language_info": {
   "codemirror_mode": {
    "name": "ipython",
    "version": 3
   },
   "file_extension": ".py",
   "mimetype": "text/x-python",
   "name": "python",
   "nbconvert_exporter": "python",
   "pygments_lexer": "ipython3",
   "version": "3.10.12"
  }
 },
 "nbformat": 4,
 "nbformat_minor": 4
}